{
 "cells": [
  {
   "cell_type": "markdown",
   "id": "5067430e",
   "metadata": {},
   "source": [
    "# JWST archive search for dwarf galaxy IFU data "
   ]
  },
  {
   "cell_type": "code",
   "execution_count": 1,
   "id": "f7caa551",
   "metadata": {},
   "outputs": [],
   "source": [
    "import matplotlib.pyplot as plt\n",
    "import numpy as np\n",
    "import astropy.table as table\n",
    "import astropy.io as io\n",
    "from astroquery.mast import Observations as obv "
   ]
  },
  {
   "cell_type": "markdown",
   "id": "d1e7d17b",
   "metadata": {},
   "source": [
    "How many JWST observations in the database?"
   ]
  },
  {
   "cell_type": "code",
   "execution_count": 2,
   "id": "96d6de83",
   "metadata": {},
   "outputs": [
    {
     "name": "stdout",
     "output_type": "stream",
     "text": [
      "206061\n"
     ]
    }
   ],
   "source": [
    "print(obv.query_criteria_count(obs_collection=\"JWST\"))"
   ]
  },
  {
   "cell_type": "markdown",
   "id": "5c3d3792",
   "metadata": {},
   "source": [
    "Here is a list of dwarf spheroidals with D-factors from Bonnivard et al 2015 (https://academic.oup.com/mnras/article/453/1/849/1749464#78668950). Take this a prelminary target list.  Note that the MAST search is not case-sensitive and I have inserted wildcards to catch as many name variations as I can. "
   ]
  },
  {
   "cell_type": "code",
   "execution_count": 3,
   "id": "0a9471ce",
   "metadata": {},
   "outputs": [],
   "source": [
    "targets_B2015 = [\"*segue*\", \n",
    "                 \"*ursa*major*\", \n",
    "                 \"*willman*\", \n",
    "                 \"*coma*\", \n",
    "                 \"*ursa*minor*\", \n",
    "                 \"*bootes*\", \n",
    "                 \"*sculptor*\", \n",
    "                 \"*draco*\", \n",
    "                 \"*sextans*\", \n",
    "                 \"*carina*\", \n",
    "                 \"*hercules*\", \n",
    "                 \"*fornax*\", \n",
    "                 \"*leo*\", \n",
    "                 \"*canis*venatici*\"]"
   ]
  },
  {
   "cell_type": "markdown",
   "id": "9724f80a",
   "metadata": {},
   "source": [
    "get all targets thus far"
   ]
  },
  {
   "cell_type": "code",
   "execution_count": 4,
   "id": "cf52bbf9",
   "metadata": {},
   "outputs": [
    {
     "name": "stderr",
     "output_type": "stream",
     "text": [
      "WARNING: NoResultsWarning: Query returned no results. [astroquery.mast.discovery_portal]\n"
     ]
    }
   ],
   "source": [
    "matches = table.vstack([obv.query_criteria(obs_collection=\"JWST\",  \n",
    "                                             instrument_name=\"NIRSPEC/IFU\",\n",
    "                                              target_name=target)\n",
    "                           for target in targets_B2015])\n"
   ]
  },
  {
   "cell_type": "code",
   "execution_count": 5,
   "id": "34a39695",
   "metadata": {},
   "outputs": [
    {
     "name": "stdout",
     "output_type": "stream",
     "text": [
      "21\n"
     ]
    },
    {
     "data": {
      "text/html": [
       "&lt;MaskedColumn name=&apos;target_name&apos; dtype=&apos;str9&apos; length=21&gt;\n",
       "<table>\n",
       "<tr><td>KLEOPATRA</td></tr>\n",
       "<tr><td>KLEOPATRA</td></tr>\n",
       "<tr><td>KLEOPATRA</td></tr>\n",
       "<tr><td>KLEOPATRA</td></tr>\n",
       "<tr><td>KLEOPATRA</td></tr>\n",
       "<tr><td>...</td></tr>\n",
       "<tr><td>LEOI</td></tr>\n",
       "<tr><td>LEOI</td></tr>\n",
       "<tr><td>LEOI</td></tr>\n",
       "<tr><td>LEOI</td></tr>\n",
       "</table>"
      ],
      "text/plain": [
       "<MaskedColumn name='target_name' dtype='str9' length=21>\n",
       "KLEOPATRA\n",
       "KLEOPATRA\n",
       "KLEOPATRA\n",
       "KLEOPATRA\n",
       "KLEOPATRA\n",
       "      ...\n",
       "     LEOI\n",
       "     LEOI\n",
       "     LEOI\n",
       "     LEOI"
      ]
     },
     "execution_count": 5,
     "metadata": {},
     "output_type": "execute_result"
    }
   ],
   "source": [
    "print(len(matches))\n",
    "matches[\"target_name\"]"
   ]
  },
  {
   "cell_type": "code",
   "execution_count": 6,
   "id": "7d4578f2",
   "metadata": {},
   "outputs": [
    {
     "data": {
      "text/html": [
       "<div><i>Table length=21</i>\n",
       "<table id=\"table140557044480896\" class=\"table-striped table-bordered table-condensed\">\n",
       "<thead><tr><th>intentType</th><th>obs_collection</th><th>provenance_name</th><th>instrument_name</th><th>project</th><th>filters</th><th>wavelength_region</th><th>target_name</th><th>target_classification</th><th>obs_id</th><th>s_ra</th><th>s_dec</th><th>dataproduct_type</th><th>proposal_pi</th><th>calib_level</th><th>t_min</th><th>t_max</th><th>t_exptime</th><th>em_min</th><th>em_max</th><th>obs_title</th><th>t_obs_release</th><th>proposal_id</th><th>proposal_type</th><th>sequence_number</th><th>s_region</th><th>jpegURL</th><th>dataURL</th><th>dataRights</th><th>mtFlag</th><th>srcDen</th><th>obsid</th><th>objID</th></tr></thead>\n",
       "<thead><tr><th>str7</th><th>str4</th><th>str7</th><th>str11</th><th>str4</th><th>str12</th><th>str8</th><th>str9</th><th>str1</th><th>str38</th><th>float64</th><th>float64</th><th>str8</th><th>str19</th><th>int64</th><th>float64</th><th>float64</th><th>float64</th><th>float64</th><th>float64</th><th>str100</th><th>float64</th><th>str4</th><th>str3</th><th>int64</th><th>str157</th><th>str64</th><th>str65</th><th>str6</th><th>bool</th><th>float64</th><th>str9</th><th>str9</th></tr></thead>\n",
       "<tr><td>science</td><td>JWST</td><td>CALJWST</td><td>NIRSPEC/IFU</td><td>JWST</td><td>F290LP;G395M</td><td>INFRARED</td><td>KLEOPATRA</td><td>--</td><td>jw01444-o001_t001_nirspec_g395m-f290lp</td><td>343.7770251042259</td><td>9.117393053537997</td><td>cube</td><td>Stansberry, John A.</td><td>3</td><td>59747.92285902639</td><td>59747.93586094907</td><td>350.132</td><td>2870.0</td><td>5100.0</td><td>FGS-021 NIRSpec Moving Target Test</td><td>59774.8541666</td><td>1444</td><td>COM</td><td>--</td><td>POLYGON 343.775153118 9.115758143 343.775153118 9.117147032 343.776447245 9.117147032 343.776447245 9.115758143</td><td>mast:JWST/product/jw01444-o001_t001_nirspec_g395m-f290lp_s3d.jpg</td><td>mast:JWST/product/jw01444-o001_t001_nirspec_g395m-f290lp_s3d.fits</td><td>PUBLIC</td><td>True</td><td>nan</td><td>87464266</td><td>257078672</td></tr>\n",
       "<tr><td>science</td><td>JWST</td><td>CALJWST</td><td>NIRSPEC/IFU</td><td>JWST</td><td>F290LP;G395M</td><td>INFRARED</td><td>KLEOPATRA</td><td>--</td><td>jw01444001001_03101_00002_nrs2</td><td>343.7754086302577</td><td>9.116159282221547</td><td>image</td><td>Stansberry, John A.</td><td>2</td><td>59747.92674271852</td><td>59747.92809354167</td><td>87.533</td><td>2870.0</td><td>5100.0</td><td>FGS-021 NIRSpec Moving Target Test</td><td>59774.8541666</td><td>1444</td><td>COM</td><td>--</td><td>POLYGON 343.776008084 9.116344831 343.775649293 9.115529527 343.774846059 9.115862836 343.775204612 9.116678091</td><td>mast:JWST/product/jw01444001001_03101_00002_nrs2_rateints.jpg</td><td>mast:JWST/product/jw01444001001_03101_00002_nrs2_rateints.fits</td><td>PUBLIC</td><td>True</td><td>nan</td><td>87464234</td><td>257078742</td></tr>\n",
       "<tr><td>...</td><td>...</td><td>...</td><td>...</td><td>...</td><td>...</td><td>...</td><td>...</td><td>...</td><td>...</td><td>...</td><td>...</td><td>...</td><td>...</td><td>...</td><td>...</td><td>...</td><td>...</td><td>...</td><td>...</td><td>...</td><td>...</td><td>...</td><td>...</td><td>...</td><td>...</td><td>...</td><td>...</td><td>...</td><td>...</td><td>...</td><td>...</td><td>...</td></tr>\n",
       "<tr><td>science</td><td>JWST</td><td>APT</td><td>NIRSPEC/IFU</td><td>JWST</td><td>F170LP;G235H</td><td>INFRARED</td><td>LEOI</td><td>--</td><td>jw03805001001_xx10f_00002_nirspec</td><td>152.10754583333335</td><td>12.310686111111112</td><td>spectrum</td><td>Pacucci, Fabio</td><td>-1</td><td>nan</td><td>nan</td><td>1458.889</td><td>1660.0</td><td>5000.0</td><td>A NIRSpec Look at the Emission and Gas Kinematics of the SMBH in the Milky Way Dwarf Satellite Leo I</td><td>nan</td><td>3805</td><td>--</td><td>15</td><td>POLYGON 152.10745017071773 12.310056996168221 152.1068529797719 12.310727665257325 152.10751029501532 12.31130008733779 152.10810754240958 12.310629649235784</td><td>--</td><td>--</td><td>PUBLIC</td><td>False</td><td>nan</td><td>150112836</td><td>270889391</td></tr>\n",
       "<tr><td>science</td><td>JWST</td><td>APT</td><td>NIRSPEC/IFU</td><td>JWST</td><td>F170LP;G235H</td><td>INFRARED</td><td>LEOI</td><td>--</td><td>jw03805001001_xx10g_00003_nirspec</td><td>152.10754583333335</td><td>12.310686111111112</td><td>spectrum</td><td>Pacucci, Fabio</td><td>-1</td><td>nan</td><td>nan</td><td>1458.889</td><td>1660.0</td><td>5000.0</td><td>A NIRSpec Look at the Emission and Gas Kinematics of the SMBH in the Milky Way Dwarf Satellite Leo I</td><td>nan</td><td>3805</td><td>--</td><td>16</td><td>POLYGON 152.1075429350956 12.310018471109998 152.10694574447436 12.310689140400514 152.1076030598236 12.31126156225929 152.10820030689334 12.310591123955852</td><td>--</td><td>--</td><td>PUBLIC</td><td>False</td><td>nan</td><td>150112837</td><td>270889392</td></tr>\n",
       "<tr><td>science</td><td>JWST</td><td>APT</td><td>NIRSPEC/IFU</td><td>JWST</td><td>F170LP;G235H</td><td>INFRARED</td><td>LEOI</td><td>--</td><td>jw03805001001_xx10h_00004_nirspec</td><td>152.10754583333335</td><td>12.310686111111112</td><td>spectrum</td><td>Pacucci, Fabio</td><td>-1</td><td>nan</td><td>nan</td><td>1458.889</td><td>1660.0</td><td>5000.0</td><td>A NIRSpec Look at the Emission and Gas Kinematics of the SMBH in the Milky Way Dwarf Satellite Leo I</td><td>nan</td><td>3805</td><td>--</td><td>17</td><td>POLYGON 152.1074840750413 12.31010643893585 152.10688688406958 12.31077710809857 152.10754419951073 12.311349530098008 152.1081414469309 12.31067909192238</td><td>--</td><td>--</td><td>PUBLIC</td><td>False</td><td>nan</td><td>150112840</td><td>270889395</td></tr>\n",
       "</table></div>"
      ],
      "text/plain": [
       "<Table length=21>\n",
       "intentType obs_collection provenance_name instrument_name ...  srcDen   obsid     objID  \n",
       "   str7         str4            str7           str11      ... float64    str9      str9  \n",
       "---------- -------------- --------------- --------------- ... ------- --------- ---------\n",
       "   science           JWST         CALJWST     NIRSPEC/IFU ...     nan  87464266 257078672\n",
       "   science           JWST         CALJWST     NIRSPEC/IFU ...     nan  87464234 257078742\n",
       "       ...            ...             ...             ... ...     ...       ...       ...\n",
       "   science           JWST             APT     NIRSPEC/IFU ...     nan 150112836 270889391\n",
       "   science           JWST             APT     NIRSPEC/IFU ...     nan 150112837 270889392\n",
       "   science           JWST             APT     NIRSPEC/IFU ...     nan 150112840 270889395"
      ]
     },
     "execution_count": 6,
     "metadata": {},
     "output_type": "execute_result"
    }
   ],
   "source": [
    "matches"
   ]
  },
  {
   "cell_type": "markdown",
   "id": "a1644fee",
   "metadata": {},
   "source": [
    "I think Kleopatra is an asteroid (https://en.wikipedia.org/wiki/216_Kleopatra).  The Leo I data is promising. "
   ]
  },
  {
   "cell_type": "code",
   "execution_count": 7,
   "id": "8149f6a2",
   "metadata": {},
   "outputs": [
    {
     "data": {
      "text/html": [
       "<div><i>Table masked=True length=0</i>\n",
       "<table id=\"table140556993115568\" class=\"table-striped table-bordered table-condensed\">\n",
       "<thead><tr><th>obsID</th><th>obs_collection</th><th>dataproduct_type</th><th>obs_id</th><th>description</th><th>type</th><th>dataURI</th><th>productType</th><th>productGroupDescription</th><th>productSubGroupDescription</th><th>productDocumentationURL</th><th>project</th><th>prvversion</th><th>proposal_id</th><th>productFilename</th><th>size</th><th>parent_obsid</th><th>dataRights</th><th>calib_level</th></tr></thead>\n",
       "<thead><tr><th>str1</th><th>str1</th><th>str1</th><th>str1</th><th>str1</th><th>str1</th><th>str1</th><th>str1</th><th>str1</th><th>str1</th><th>str1</th><th>str1</th><th>str1</th><th>str1</th><th>str1</th><th>int64</th><th>str1</th><th>str1</th><th>int64</th></tr></thead>\n",
       "</table></div>"
      ],
      "text/plain": [
       "<Table masked=True length=0>\n",
       "obsID obs_collection dataproduct_type obs_id ... parent_obsid dataRights calib_level\n",
       " str1      str1            str1        str1  ...     str1        str1       int64   \n",
       "----- -------------- ---------------- ------ ... ------------ ---------- -----------"
      ]
     },
     "execution_count": 7,
     "metadata": {},
     "output_type": "execute_result"
    }
   ],
   "source": [
    "obv.get_product_list(matches[matches[\"target_name\"] == \"LEOI\"])"
   ]
  },
  {
   "cell_type": "markdown",
   "id": "fc8c141f",
   "metadata": {},
   "source": [
    "It seems these observations are not completed yet.  Check for all nirspecIFU which have data currently available.  It seems that query_criteria retuns a masked table, where the relevent entries for planned observations that do not yet have data are masked. One such is the \"dataURL\" which contains the location on the server of the actual data file. So we can filter on whether that entry is masked:"
   ]
  },
  {
   "cell_type": "code",
   "execution_count": 8,
   "id": "bd3f1b82",
   "metadata": {},
   "outputs": [],
   "source": [
    "all_public_nirspecIFU = obv.query_criteria(obs_collection=\"JWST\",  \n",
    "                                           instrument_name=\"NIRSPEC/IFU\",\n",
    "                                           dataRights=\"PUBLIC\")\n",
    "with_data = all_public_nirspecIFU[~all_public_nirspecIFU[\"dataURL\"].mask]"
   ]
  },
  {
   "cell_type": "code",
   "execution_count": 9,
   "id": "06991ee7",
   "metadata": {},
   "outputs": [
    {
     "data": {
      "text/plain": [
       "1323"
      ]
     },
     "execution_count": 9,
     "metadata": {},
     "output_type": "execute_result"
    }
   ],
   "source": [
    "len(with_data)"
   ]
  },
  {
   "cell_type": "code",
   "execution_count": 10,
   "id": "65fc2daa",
   "metadata": {},
   "outputs": [],
   "source": [
    "available_targets = table.Table(\n",
    "    names=[\"target_name\", \"t_total\", \"RA\", \"Dec\", \"proposal_id\", \"PI\", \"description\"], \n",
    "    dtype=[str, float, float, float, str, str, str])\n",
    "for row in with_data:\n",
    "    target_name = row[\"target_name\"]\n",
    "    t_exp = row[\"t_exptime\"]/3600.0\n",
    "    if target_name not in available_targets[\"target_name\"]:\n",
    "        available_targets.add_row(\n",
    "            [target_name, t_exp, row[\"s_ra\"], row[\"s_dec\"],\n",
    "             row[\"proposal_id\"], row[\"proposal_pi\"], row[\"obs_title\"]])\n",
    "        \n",
    "    available_targets[\"t_total\"][available_targets[\"target_name\"] == target_name] += t_exp"
   ]
  },
  {
   "cell_type": "code",
   "execution_count": 11,
   "id": "2bc747a2",
   "metadata": {},
   "outputs": [],
   "source": [
    "available_targets.sort(\"t_total\")\n",
    "available_targets.reverse()"
   ]
  },
  {
   "cell_type": "markdown",
   "id": "e655de5e",
   "metadata": {},
   "source": [
    "plot histogram of number of targets by total observing time"
   ]
  },
  {
   "cell_type": "code",
   "execution_count": 12,
   "id": "83d1e835",
   "metadata": {},
   "outputs": [
    {
     "data": {
      "text/plain": [
       "(array([66.,  8.,  4.,  2.,  3.,  0.,  0.,  1.,  0.,  1.]),\n",
       " array([ 1. ,  4.9,  8.8, 12.7, 16.6, 20.5, 24.4, 28.3, 32.2, 36.1, 40. ]),\n",
       " <BarContainer object of 10 artists>)"
      ]
     },
     "execution_count": 12,
     "metadata": {},
     "output_type": "execute_result"
    },
    {
     "data": {
      "image/png": "[encoded data removed]",
      "text/plain": [
       "<Figure size 640x480 with 1 Axes>"
      ]
     },
     "metadata": {},
     "output_type": "display_data"
    },
    {
     "data": {
      "image/png": "[encoded data removed]",
      "text/plain": [
       "<Figure size 640x480 with 1 Axes>"
      ]
     },
     "metadata": {},
     "output_type": "display_data"
    }
   ],
   "source": [
    "fig, ax = plt.subplots()\n",
    "ax.hist(available_targets[\"t_total\"], bins=100, range=(0, 40))\n",
    "ax.axvline(1, color='r')\n",
    "\n",
    "fig, ax = plt.subplots()\n",
    "ax.hist(available_targets[\"t_total\"], bins=10, range=(1, 40))"
   ]
  },
  {
   "cell_type": "markdown",
   "id": "c86089fd",
   "metadata": {},
   "source": [
    "list all targets, sorted by observing time"
   ]
  },
  {
   "cell_type": "code",
   "execution_count": 13,
   "id": "d8fd0aa5",
   "metadata": {},
   "outputs": [
    {
     "name": "stdout",
     "output_type": "stream",
     "text": [
      "total targets: 149\n",
      "targets with > 1 hr: 85\n",
      "      target_name              t_total      \n",
      "------------------------ -------------------\n",
      "                   GNZ11  38.093208333333315\n",
      "                  GALCEN  29.311380000000003\n",
      "       SDSSJ1652-NIRSPEC   19.24922722222222\n",
      "                NGC-4151  18.965560000000004\n",
      "            SGAS1723-IFU   18.34959111111111\n",
      "          SPT0346-52-IFU            14.58888\n",
      "            SGAS1723-SKY  14.001288888888887\n",
      "                  URANUS            12.40694\n",
      "          ORIBAR-NIRSPEC  11.595779999999893\n",
      "SDSS-J083200.20+161500.3   9.320673333333334\n",
      "            SGAS1226-IFU   9.207208888888887\n",
      "            HE-0435-1223            8.753335\n",
      "   SPT0346-52-IFU-OFFSET   7.440329999999999\n",
      "         XID2028-NIRSPEC  6.8081475000000005\n",
      "                Z6.1-6.2   6.548791111111111\n",
      "             BG-Z6.1-6.2   6.548791111111111\n",
      "          VDESJ0020-3653   6.078703333333333\n",
      "               2011HM102   6.078703333333333\n",
      "       SDSSJ0749-NIRSPEC   4.964271666666667\n",
      "            SGAS1226-SKY   4.891329722222221\n",
      "         SPIRITS19Q-BKGD   4.862963333333333\n",
      "         C2014UN271-COPY   4.771897777777778\n",
      "          SPT0418-47-IFU  4.7657050000000005\n",
      "                 NEPTUNE            4.533305\n",
      "             NGC2023-PDR   4.214571111111113\n",
      "            NGC3256-NUC2    4.08488888888889\n",
      "          SPT2147-50-IFU  3.9146858333333334\n",
      "   SPT0418-47-IFU-OFFSET   3.857951666666667\n",
      "               238P-READ   3.789059166666666\n",
      "             GRB-050820A  3.6472227777777775\n",
      "  C2014UN271-OFFSET-COPY   3.578923333333334\n",
      "         F2M1106-NIRSPEC  3.5256427777777786\n",
      "                 1808347  3.3716533333333354\n",
      "                  SNAP-2  3.3230272222222235\n",
      "                  2022E3   3.177133333333333\n",
      "   SPT2147-50-IFU-OFFSET   3.169031388888889\n",
      "                  IIZW96  3.1406616666666665\n",
      "               VV114-NUC  3.1406616666666665\n",
      "                SN-1987A  2.9339894444444448\n",
      "                GANYMEDE           2.9299825\n",
      "               VHS-1256B  2.8529422222222225\n",
      "                   HH48B  2.8083641666666668\n",
      "              CED110IRS4  2.8083641666666668\n",
      "       C2014UN271-OFFSET           2.6841925\n",
      "                HD-19467             2.18833\n",
      "                   P330E  2.1559144444444445\n",
      "               1999RZ253  2.1397033333333333\n",
      "                  TYPHON  1.9451866666666673\n",
      "                2014LV28  1.9451866666666673\n",
      "              SILA-NUMAN  1.9451866666666673\n",
      "                      IO  1.9036577777777777\n",
      "                   45756   1.896555555555556\n",
      "                2007RW10           1.6047775\n",
      "               2001QY297           1.6047775\n",
      "                2000OK67           1.6047775\n",
      "               2005EF298           1.6047775\n",
      "                2012DR30           1.6047775\n",
      "                2015SO20           1.6047775\n",
      "               2001QD298           1.6047775\n",
      "                NGC-7469  1.5885644444444442\n",
      "            NGC3256-NUC1  1.5885644444444442\n",
      "        2022E3BACKGROUND  1.5561466666666666\n",
      "    NGC-2070-S7B-NIRSPEC  1.5561422222222223\n",
      " 2MASS-J17430448+6655015  1.4588900000000007\n",
      "             MORS-SOMNUS  1.4588900000000002\n",
      "                2010ET65  1.4588900000000002\n",
      "                2005CC79  1.4588900000000002\n",
      "                2010ER65  1.4588900000000002\n",
      "               2001FZ173  1.4588900000000002\n",
      "                2005PU21  1.4588900000000002\n",
      "            PLUTO+CHARON  1.4588888888888891\n",
      "       HH48B-SKY-NIRSPEC  1.4467330555555555\n",
      "                 1995TL8             1.26437\n",
      " 2022E3-FIXED-BACKGROUND  1.2319511111111112\n",
      "             JUPITER-GRS  1.2168366666666666\n",
      "              C2014UN271  1.1929744444444443\n",
      "                 2008NW4  1.1671099999999999\n",
      "                2002KY14  1.1671099999999999\n",
      "                  EUROPA  1.1333244444444444\n",
      "               ENCELADUS  1.1333244444444444\n",
      "     NAME-CARTWHEEL-CORE  1.1063252777777777\n",
      " HD-18511-PSF-CALIBRATOR             1.09416\n",
      "        22P-KOPFF-OFFSET  1.0698519444444445\n",
      "               22P-KOPFF  1.0536433333333333\n",
      "                 JUPITER  1.0080633333333335\n",
      "                2004EW95  0.9725933333333336\n",
      "                2007OC10  0.9725933333333336\n",
      "               2004PG115  0.9725933333333336\n",
      "                2010VZ98  0.9725933333333336\n",
      "          TITAN-TRAILING  0.9543799999999999\n",
      "           HD44179-SPIKE  0.9118055555555558\n",
      "               2003FY128  0.8915438888888889\n",
      "                 PALLENE  0.8915430555555555\n",
      "       ORIBAR-BACKGROUND   0.876841388888889\n",
      "                2007JF43           0.8753325\n",
      "               2005TB190           0.8753325\n",
      "                 OKYRHOE           0.8753325\n",
      "                1996TL66           0.8753325\n",
      "                 2003WL7           0.8753325\n",
      "               2003UZ413           0.8753325\n",
      "                2010VW11           0.8753325\n",
      "               2003UR292           0.8753325\n",
      "               2005QU182           0.8753325\n",
      "                2004NT33           0.8753325\n",
      "                2014YF50           0.8753325\n",
      "               1998SN165           0.8753325\n",
      "         IRAS-05248-7007  0.7780736111111112\n",
      "                2005RN43  0.7780733333333334\n",
      "               2002TC302  0.7780733333333334\n",
      "                NGC-7319  0.7578127777777778\n",
      "                2002XV93  0.7294450000000001\n",
      "               2004PF115  0.7294450000000001\n",
      "                 1999DE9  0.7294450000000001\n",
      "                2010KR59  0.7294450000000001\n",
      "      NEPTUNE-BACKGROUND            0.715785\n",
      "       URANUS-BACKGROUND            0.715785\n",
      "               2003UZ117  0.6808141666666666\n",
      "                 THEREUS  0.6808133333333333\n",
      "                1999TC36  0.6808133333333333\n",
      "               2004XA192            0.583555\n",
      "               2004TY364            0.583555\n",
      "                2003MW12            0.583555\n",
      "              GCRV-21765  0.5666644444444443\n",
      "                2002UX25             0.51061\n",
      "               2007UK126 0.43766750000000004\n",
      "                    HUYA 0.43766750000000004\n",
      "               2010EK139 0.43766750000000004\n",
      "                  HAUMEA  0.4255086111111111\n",
      "                2001XY84 0.40524722222222226\n",
      "                 TELESTO 0.36472166666666667\n",
      "                2004UX10 0.32419722222222225\n",
      "               KLEOPATRA  0.2917766666666667\n",
      "       JUPITER-FIXED-66S 0.28631999999999996\n",
      "                 1-CERES            0.267465\n",
      "                2-PALLAS             0.24315\n",
      "                CHARIKLO 0.24314833333333336\n",
      "               10-HYGIEA            0.218835\n",
      "                2013LU28           0.2188325\n",
      "       JUPITER-FIXED-62S 0.14315999999999998\n",
      "              BD+04-3653 0.14315555555555556\n",
      "          TYC-3986-834-1 0.14315555555555556\n",
      " 2MASS-J17540383-2810466 0.14315555555555556\n",
      " 2MASS-J15395077-3404566 0.14315555555555556\n",
      "           TITAN-LEADING             0.13421\n",
      "                  HEKTOR           0.1094175\n",
      "              EPIMETHEUS 0.10736833333333336\n",
      "                 PANDORA 0.10736833333333336\n",
      "           617-PATROCLUS           0.0851025\n",
      "       NIRSPEC-PSF-J1007 0.05368416666666667\n"
     ]
    }
   ],
   "source": [
    "print(\"total targets: {}\".format(len(available_targets)))\n",
    "print(\"targets with > 1 hr: {}\".format(np.sum(available_targets[\"t_total\"] >= 1)))\n",
    "available_targets[\"target_name\", \"t_total\"].pprint(max_lines=-1)"
   ]
  },
  {
   "cell_type": "markdown",
   "id": "42d2aaae",
   "metadata": {},
   "source": [
    "total hours of NirspecIFU data"
   ]
  },
  {
   "cell_type": "code",
   "execution_count": 14,
   "id": "abbf1f47",
   "metadata": {},
   "outputs": [
    {
     "data": {
      "text/plain": [
       "437.8358174999999"
      ]
     },
     "execution_count": 14,
     "metadata": {},
     "output_type": "execute_result"
    }
   ],
   "source": [
    "available_targets[\"t_total\"].sum()"
   ]
  },
  {
   "cell_type": "markdown",
   "id": "e2c1d3e8",
   "metadata": {},
   "source": [
    "In principle some targets may have been observed by differenet proposals - check if this is the case (it is likely not as the telescope is so new)"
   ]
  },
  {
   "cell_type": "code",
   "execution_count": 15,
   "id": "145d7a82",
   "metadata": {},
   "outputs": [],
   "source": [
    "targets = np.unique(with_data[\"target_name\"])\n",
    "\n",
    "for target_name in targets:\n",
    "    num_proposals = np.unique(\n",
    "        with_data[with_data[\"target_name\"] == target_name][\"proposal_id\"]).size\n",
    "    #print(\"{}:  {}\".format(target_name, num_proposals))\n",
    "    if num_proposals>1 :\n",
    "        print(\"{}:  {}\".format(target_name, num_proposals))\n",
    "    "
   ]
  },
  {
   "cell_type": "markdown",
   "id": "89a53fba",
   "metadata": {},
   "source": [
    "so indeed target <--> is one-to-one"
   ]
  },
  {
   "cell_type": "markdown",
   "id": "64089ae6",
   "metadata": {},
   "source": [
    "make csv of this table to import into excel"
   ]
  },
  {
   "cell_type": "code",
   "execution_count": 16,
   "id": "0deb8be0",
   "metadata": {},
   "outputs": [],
   "source": [
    "available_targets.write(\"jwst_nirspec_ifu-available.html\", format='html', overwrite=True)"
   ]
  },
  {
   "cell_type": "markdown",
   "id": "10a06cb6",
   "metadata": {},
   "source": [
    "check other instruments on jwst? which instruments have data?"
   ]
  },
  {
   "cell_type": "code",
   "execution_count": 17,
   "id": "946086f7",
   "metadata": {},
   "outputs": [],
   "source": [
    "all_jwst = obv.query_criteria(obs_collection=\"JWST\")"
   ]
  },
  {
   "cell_type": "code",
   "execution_count": 18,
   "id": "fe42e05a",
   "metadata": {},
   "outputs": [
    {
     "name": "stdout",
     "output_type": "stream",
     "text": [
      "instrument_name\n",
      "---------------\n",
      "            FGS\n",
      "       FGS/FGS1\n",
      "       FGS/FGS2\n",
      "           MIRI\n",
      "     MIRI/CORON\n",
      "       MIRI/IFU\n",
      "     MIRI/IMAGE\n",
      "      MIRI/SLIT\n",
      "  MIRI/SLITLESS\n",
      "   MIRI/TARGACQ\n",
      "         NIRCAM\n",
      "   NIRCAM/CORON\n",
      "   NIRCAM/GRISM\n",
      "   NIRCAM/IMAGE\n",
      " NIRCAM/TARGACQ\n",
      "         NIRISS\n",
      "     NIRISS/AMI\n",
      "   NIRISS/IMAGE\n",
      "    NIRISS/SOSS\n",
      "    NIRISS/WFSS\n",
      "        NIRSPEC\n",
      "    NIRSPEC/IFU\n",
      "  NIRSPEC/IMAGE\n",
      "    NIRSPEC/MSA\n",
      "   NIRSPEC/SLIT\n"
     ]
    }
   ],
   "source": [
    "np.unique(all_jwst[\"instrument_name\"]).pprint(max_lines=-1)"
   ]
  },
  {
   "cell_type": "code",
   "execution_count": 19,
   "id": "8eee1016",
   "metadata": {},
   "outputs": [],
   "source": [
    "all_jwst_spectra = obv.query_criteria(obs_collection=\"JWST\", \n",
    "                                      instrument_name=[\"NIRSPEC/MSA\", \"NIRSPEC/IFU\"])"
   ]
  },
  {
   "cell_type": "code",
   "execution_count": 20,
   "id": "9c5ced85",
   "metadata": {},
   "outputs": [],
   "source": [
    "all_spectra_with_data = all_jwst_spectra[~all_jwst_spectra[\"dataURL\"].mask]"
   ]
  },
  {
   "cell_type": "code",
   "execution_count": 21,
   "id": "44cdaa5a",
   "metadata": {},
   "outputs": [],
   "source": [
    "available_targets_full = table.Table(\n",
    "    names=[\"target_name\", \"t_total\", \"RA\", \"Dec\", \"instrument\", \"proposal_id\", \"PI\", \"description\"], \n",
    "    dtype=[str, float, float, float, str, str, str, str])\n",
    "for row in all_spectra_with_data:\n",
    "    target_name = row[\"target_name\"]\n",
    "    t_exp = row[\"t_exptime\"]/3600.0\n",
    "    if target_name not in available_targets_full[\"target_name\"]:\n",
    "        available_targets_full.add_row(\n",
    "            [target_name, t_exp, row[\"s_ra\"], row[\"s_dec\"], row[\"instrument_name\"],\n",
    "             row[\"proposal_id\"], row[\"proposal_pi\"], row[\"obs_title\"]])\n",
    "    available_targets_full[\"t_total\"][available_targets_full[\"target_name\"] == target_name] += t_exp"
   ]
  },
  {
   "cell_type": "code",
   "execution_count": 22,
   "id": "8937b4d9",
   "metadata": {},
   "outputs": [],
   "source": [
    "available_targets_full.sort(\"t_total\")\n",
    "available_targets_full.reverse()"
   ]
  },
  {
   "cell_type": "code",
   "execution_count": 23,
   "id": "3996516b",
   "metadata": {},
   "outputs": [
    {
     "name": "stdout",
     "output_type": "stream",
     "text": [
      "total hours: 83770.12338861168\n",
      "total targets: 521\n",
      "          target_name                 t_total         instrument\n",
      "------------------------------- -------------------- -----------\n",
      "                  GS-MEDIUM-HST      9648.9814950006 NIRSPEC/MSA\n",
      "    1181-MERGED-APT-CLEAN-CLEAN    9576.400374166416 NIRSPEC/MSA\n",
      "              DEEP-HST-V1-CLEAN    8440.402004999982 NIRSPEC/MSA\n",
      "    21_3_23_mediumjwst_trim_ta5    6161.295838055785 NIRSPEC/MSA\n",
      "              cosmos_zsel_final    6025.211378333322 NIRSPEC/MSA\n",
      "                            v16    2904.323696666676 NIRSPEC/MSA\n",
      "                   MPTCAT092722    2787.288483888904 NIRSPEC/MSA\n",
      "           BLUEJAY-MASTER-SOUTH   2637.5256199999994 NIRSPEC/MSA\n",
      "               MUSE-DR2-MXDF-V2   2341.5168450000024 NIRSPEC/MSA\n",
      "Q2343-22J7-TAJ10-WBS-CONJ28-M25     2097.55818444444 NIRSPEC/MSA\n",
      " 21_3_23_mediumjwst_trim_ta5_v2   2010.1053033333164 NIRSPEC/MSA\n",
      "   MERGED-TRIMMED-NIRCAM-CAT-V1   1837.1052574999824 NIRSPEC/MSA\n",
      "            MSA-FINAL-CAT-MSATA   1659.4860208333332 NIRSPEC/MSA\n",
      "           BLUEJAY-MASTER-NORTH   1617.7458022222247 NIRSPEC/MSA\n",
      "                    MPTCAT-0628   1304.0280300000015 NIRSPEC/MSA\n",
      "  CAT.LMASSGT9P0.LSFRGT-UPDATED   1209.5808725000124 NIRSPEC/MSA\n",
      "                       CVZSOUTH    694.6256300000003 NIRSPEC/MSA\n",
      "    NAME-GALACTIC-CENTER-OFFSET    694.6256300000003 NIRSPEC/MSA\n",
      "                        MINZODY    694.6256300000003 NIRSPEC/MSA\n",
      "  CEERS-NIRSPEC-P11-PRISM-MSATA    630.1183583333367 NIRSPEC/MSA\n",
      "   CEERS-NIRSPEC-P9-PRISM-MSATA    624.0761275000049 NIRSPEC/MSA\n",
      "            MQN01_APT_allcat_v3    566.7782099999998 NIRSPEC/MSA\n",
      "        M31-FINAL-MSATA+TARGETS   505.74818666666584 NIRSPEC/MSA\n",
      "              CATALOGUE-120722E    460.3604499999997 NIRSPEC/MSA\n",
      "       SUPER-SAMPLE-W-STANDARDS    394.3863299999999 NIRSPEC/MSA\n",
      "                 RXJ2129-CAT-V3   364.96538750000025 NIRSPEC/MSA\n",
      "      CEERS-NIRSPEC-P7-MR-MSATA   325.41728916666807 NIRSPEC/MSA\n",
      "      CEERS-NIRSPEC-P8-MR-MSATA    323.9786627777794 NIRSPEC/MSA\n",
      "                          P2017    323.7922777777771 NIRSPEC/MSA\n",
      "  CEERS-NIRSPEC-P12-PRISM-MSATA   321.10141000000175 NIRSPEC/MSA\n",
      "                          P2021   320.45821222222173 NIRSPEC/MSA\n",
      "                     GOODSN2000    317.4299011111107 NIRSPEC/MSA\n",
      "                     GOODSN2001    317.4299011111104 NIRSPEC/MSA\n",
      "                          P2018    315.8291758333326 NIRSPEC/MSA\n",
      "      CEERS-NIRSPEC-P9-MR-MSATA     315.059179166668 NIRSPEC/MSA\n",
      "                     GOODSN2003   314.22845055555496 NIRSPEC/MSA\n",
      "  CEERS-NIRSPEC-P10-PRISM-MSATA    313.3328275000021 NIRSPEC/MSA\n",
      "     CEERS-NIRSPEC-P10-MR-MSATA    313.0451022222234 NIRSPEC/MSA\n",
      "                     GOODSN2002     312.627725277777 NIRSPEC/MSA\n",
      "                          P2019    311.2093613888884 NIRSPEC/MSA\n",
      "                     GOODSN2004    307.7850249999991 NIRSPEC/MSA\n",
      "   CEERS-NIRSPEC-P8-PRISM-MSATA   307.29059666666853 NIRSPEC/MSA\n",
      "                     GOODSN2008    306.1842997222214 NIRSPEC/MSA\n",
      "                     GOODSN2006   303.02337361111074 NIRSPEC/MSA\n",
      "                     GOODSN2007    303.0233736111103 NIRSPEC/MSA\n",
      "   CEERS-NIRSPEC-P4-PRISM-MSATA    302.3992669444465 NIRSPEC/MSA\n",
      "                          P2020   301.42264833333246 NIRSPEC/MSA\n",
      "   CEERS-NIRSPEC-P7-PRISM-MSATA    301.2483658333353 NIRSPEC/MSA\n",
      "             MACS0647-MSA-OBS23    299.4734166666665 NIRSPEC/MSA\n",
      "      CEERS-NIRSPEC-P4-MR-MSATA    292.6166075000011 NIRSPEC/MSA\n",
      "   CEERS-NIRSPEC-P5-PRISM-MSATA   279.41768611111286 NIRSPEC/MSA\n",
      "     WESTERLUND2-DIST-CORE-FULL    274.8548524999994 NIRSPEC/MSA\n",
      "macs1423_clu_nirspec_targets_v1   253.66436500000069 NIRSPEC/MSA\n",
      "           MACS0647-MSA-TARGETS   238.97764805555587 NIRSPEC/MSA\n",
      "           P4-GO-2674-FINAL-CAT   232.40100000000007 NIRSPEC/MSA\n",
      "                     GOODSN2005    224.6689200000001 NIRSPEC/MSA\n",
      "J1007-eMPT-target-pointing1-upd    216.4991699999996 NIRSPEC/MSA\n",
      "      CEERS-NIRSPEC-P5-MR-MSATA   215.30763833333444 NIRSPEC/MSA\n",
      "                MERGED-CATALOG3             212.7545 NIRSPEC/MSA\n",
      "          CATLAE-WEST-FINAL-III    206.1410000000001 NIRSPEC/MSA\n",
      "            CATLAE-WEST-FINAL-V    191.6980000000001 NIRSPEC/MSA\n",
      "MACS0417-CLU-NIRSPEC-TARGETS-V0   186.49467333333368 NIRSPEC/MSA\n",
      "           CATLAE-WEST-FINAL-IV   175.94200000000006 NIRSPEC/MSA\n",
      "            CATLAE-WEST-FINAL-I   170.69000000000005 NIRSPEC/MSA\n",
      "               WHL0137-MSA-OBS2   169.37707499999954 NIRSPEC/MSA\n",
      "                    WHL0137-MSA   166.24046249999955 NIRSPEC/MSA\n",
      "    J1007-eMPT-target-pointing0   166.11885999999993 NIRSPEC/MSA\n",
      "           P3-GO-2674-FINAL-CAT    162.7471449999998 NIRSPEC/MSA\n",
      "           P1-GO-2674-FINAL-CAT   161.45035500000003 NIRSPEC/MSA\n",
      "           P2-GO-2674-FINAL-CAT   159.50516999999988 NIRSPEC/MSA\n",
      "           CATLAE-WEST-FINAL-II   157.68967111111118 NIRSPEC/MSA\n",
      "               WHL0137-MSA-OBS3   146.02673749999965 NIRSPEC/MSA\n",
      "               msa_g165_cat_fix    138.1081483333333 NIRSPEC/MSA\n",
      "            NGC2506CAT20228417E    126.9234300000002 NIRSPEC/MSA\n",
      "           RXCJ2248-FINAL-obs51    125.5252450000003 NIRSPEC/MSA\n",
      "   COSMOS-ZFOURGE-FINAL-V1-OBS1   107.22833333333331 NIRSPEC/MSA\n",
      "                    A1703-FINAL    105.2831308333334 NIRSPEC/MSA\n",
      "                     MSA-CAT-V9    99.78033333333329 NIRSPEC/MSA\n",
      "          LMC-ASTROMETRIC-FIELD    94.65750916666718 NIRSPEC/MSA\n",
      "                        1808347    88.68018805555535 NIRSPEC/IFU\n",
      "MACS0417-NCF-NIRSPEC-TARGETS-V0    82.18409333333332 NIRSPEC/MSA\n",
      "               RXCJ2248-UPDATED    79.57024000000006 NIRSPEC/MSA\n",
      "   COSMOS-ZFOURGE-FINAL-V2-OBS2    72.03263888888888 NIRSPEC/MSA\n",
      "      EGS-THREEDHST-FINAL-V2.80    71.12083333333334 NIRSPEC/MSA\n",
      "   COSMOS-ZFOURGE-FINAL-V2-OBS3    70.02666666666664 NIRSPEC/MSA\n",
      "                    APTCATS67V5    65.13941500000011 NIRSPEC/MSA\n",
      "             ASTROFIELD-APA-330    63.09699249999997 NIRSPEC/MSA\n",
      "           J1342-CAT-CORR-EXTRA    60.84783833333334 NIRSPEC/MSA\n",
      "          48-eMPTselected+allTA    58.35550000000003 NIRSPEC/MSA\n",
      "           ASTROFIELD-APA-307P5    56.31936777777748 NIRSPEC/MSA\n",
      "  UDS-THREEDHST-FINAL-V7-OBS200    54.16124999999999 NIRSPEC/MSA\n",
      "  UDS-THREEDHST-FINAL-V7-OBS100    49.23749999999999 NIRSPEC/MSA\n",
      "             ASTROFIELD-APA-318    48.02179583333329 NIRSPEC/MSA\n",
      "        NGC3603-EMPT+TA+SPITZER     46.6844799999999 NIRSPEC/MSA\n",
      "                   APTCATS156V7    46.29542000000003 NIRSPEC/MSA\n",
      "  UDS-THREEDHST-FINAL-V7-OBS300    44.31374999999999 NIRSPEC/MSA\n",
      "          47-eMPTselected+allTA    39.68173999999995 NIRSPEC/MSA\n",
      "                          GNZ11   38.093208333333315 NIRSPEC/IFU\n",
      "                 BORG-0314-6712    35.74277777777776 NIRSPEC/MSA\n",
      "                         GALCEN   33.731350000000006 NIRSPEC/IFU\n",
      "                 BORG-1437+5044    33.55444444444442 NIRSPEC/MSA\n",
      "                 TGSSJ1530+1049    30.79876888888889 NIRSPEC/IFU\n",
      "                 BORG-1033+5051     29.9072222222222 NIRSPEC/MSA\n",
      "                 BORG-0859+4114    29.03188888888887 NIRSPEC/MSA\n",
      "                  NGC-346-SHORT   28.594195000000013 NIRSPEC/MSA\n",
      "                           M-87    26.74629833333333 NIRSPEC/IFU\n",
      "         W2246-0526-NIRSPEC-IFU    25.65214083333333 NIRSPEC/IFU\n",
      "                 SPT0346-52-IFU    25.53053999999995 NIRSPEC/IFU\n",
      "                 BORG-2203+1851   24.071666666666655 NIRSPEC/MSA\n",
      "                     J0313-1806   23.099075833333345 NIRSPEC/IFU\n",
      "                     J1007+2115   23.099075833333345 NIRSPEC/IFU\n",
      "                HIMIKO-F-6.60-L   22.507413888888898 NIRSPEC/IFU\n",
      "                 HZ4-COS-5.54-S   22.507413888888898 NIRSPEC/IFU\n",
      "                EGSY8P7-NIRSPEC   22.507413888888898 NIRSPEC/IFU\n",
      "                        TARGETS    20.93751666666668 NIRSPEC/MSA\n",
      "        HALE-BOPP-UPDATED-ORBIT   19.451853333333318 NIRSPEC/IFU\n",
      "              SDSSJ1652-NIRSPEC    19.24922722222222 NIRSPEC/IFU\n",
      "                       NGC-4151   18.965560000000004 NIRSPEC/IFU\n",
      "                23170-GS-2.97-S   18.617040555555565 NIRSPEC/IFU\n",
      "                20936-GS-3.25-S   18.617040555555565 NIRSPEC/IFU\n",
      "                19293-GS-3.11-S   18.617040555555565 NIRSPEC/IFU\n",
      "                   SGAS1723-IFU    18.34959111111111 NIRSPEC/IFU\n",
      "                    LACES104037    18.23610999999999 NIRSPEC/IFU\n",
      "                     LACES94460    18.23610999999999 NIRSPEC/IFU\n",
      "                     BACKGROUND   16.574597777777768 NIRSPEC/IFU\n",
      "                   HE-0435-1223    16.53407722222222 NIRSPEC/IFU\n",
      "                   TNJ1338-1942   15.561480000000001 NIRSPEC/IFU\n",
      "        TNJ1338-1942-BACKGROUND   15.561480000000001 NIRSPEC/IFU\n",
      "                 ULASJ1342+0928   14.483522222222218 NIRSPEC/IFU\n",
      "       SDSS-J083200.20+161500.3   14.183633333333333 NIRSPEC/IFU\n",
      "                         POPIII   14.102593333333338 NIRSPEC/IFU\n",
      "                   SGAS1723-SKY   14.001288888888887 NIRSPEC/IFU\n",
      "                  UHSJ0439+1634   13.932391111111116 NIRSPEC/IFU\n",
      "                 CR7-COS-6.60-L    13.52714055555555 NIRSPEC/IFU\n",
      "               COS30-COS-6.80-S    13.52714055555555 NIRSPEC/IFU\n",
      "                 3073-GS-5.56-S    13.52714055555555 NIRSPEC/IFU\n",
      "                HZ10-COS-5.66-S    13.52714055555555 NIRSPEC/IFU\n",
      "               12306-COS-6.20-S    13.52714055555555 NIRSPEC/IFU\n",
      "                      A2744-YD4   13.316414444444446 NIRSPEC/IFU\n",
      "                   SUNBURST1SKY   13.129999999999999 NIRSPEC/IFU\n",
      "                  SUNBURST-POS3   13.129999999999999 NIRSPEC/IFU\n",
      "                       UCDE-372   12.967902222222222 NIRSPEC/IFU\n",
      "                    NSC-VCC1539   12.967902222222222 NIRSPEC/IFU\n",
      "           MACS1149-JD1-NIRSPEC   12.591020833333333 NIRSPEC/IFU\n",
      "                   MACSJ0416-Y1   12.591020833333333 NIRSPEC/IFU\n",
      "                         URANUS             12.40694 NIRSPEC/IFU\n",
      "                        UCD-395   12.319506666666667 NIRSPEC/IFU\n",
      "        JEKILL+HIDE-COS-3.717-D   12.230349444444439 NIRSPEC/IFU\n",
      "                 4891-GS-3.70-S   12.230349444444439 NIRSPEC/IFU\n",
      "                 DELSJ0411-0907   12.157406666666667 NIRSPEC/IFU\n",
      "             NIRSPEC-J1120+0641   12.157406666666667 NIRSPEC/IFU\n",
      "             B14-65666-COS-7.15    12.15740666666666 NIRSPEC/IFU\n",
      "             COS-ZS7-1-COS-7.15    12.15740666666666 NIRSPEC/IFU\n",
      "                MACSJ1206-BLANK   12.157405555555556 NIRSPEC/IFU\n",
      "          MACSJ1206-COSMICSNAKE   12.157405555555556 NIRSPEC/IFU\n",
      "                    COSMOS24108   12.116881111111113 NIRSPEC/IFU\n",
      "                        BDF3299   12.116881111111113 NIRSPEC/IFU\n",
      "                HH46IRS-NIRSPEC    11.71164472222222 NIRSPEC/IFU\n",
      "                   BR1202-F4.69   11.671106666666667 NIRSPEC/IFU\n",
      "        RXJ1131-1231.LENSGALAXY   11.630583888888886 NIRSPEC/IFU\n",
      "                 ORIBAR-NIRSPEC   11.595779999999893 NIRSPEC/IFU\n",
      "                 5001-GS-3.47-S   11.581953888888883 NIRSPEC/IFU\n",
      "                10578-GS-3.06-S   11.581953888888883 NIRSPEC/IFU\n",
      "                  SUNBURST-POS1   11.476593333333334 NIRSPEC/IFU\n",
      "                  SUNBURST-POS2   11.476593333333334 NIRSPEC/IFU\n",
      "                         SNAP-2   11.427960555555558 NIRSPEC/IFU\n",
      "          SPT0346-52-IFU-OFFSET             11.08755 NIRSPEC/IFU\n",
      "                     J1211-0118   10.374324444444444 NIRSPEC/IFU\n",
      "                          J1201   10.212224166666665 NIRSPEC/IFU\n",
      "                      2011HM102   10.131172222222219 NIRSPEC/IFU\n",
      "                       Z6.1-6.2    9.823186666666667 NIRSPEC/IFU\n",
      "                    BG-Z6.1-6.2    9.823186666666667 NIRSPEC/IFU\n",
      "                        HOPS153    9.725933333333348 NIRSPEC/IFU\n",
      "                      IRAS20126    9.725933333333348 NIRSPEC/IFU\n",
      "                       UCDE-374    9.725924444444445 NIRSPEC/IFU\n",
      "                        4C03.24             9.361205 NIRSPEC/IFU\n",
      "       SDSS-J221524.00-005643.8    9.320673333333334 NIRSPEC/IFU\n",
      "                   SGAS1226-IFU    9.207208888888887 NIRSPEC/IFU\n",
      "                 VDESJ0020-3653             9.118055 NIRSPEC/IFU\n",
      "                       SER-S68N     8.88301388888889 NIRSPEC/IFU\n",
      "               LQAC-308-047-001             8.753335 NIRSPEC/IFU\n",
      "                  HB89-1115+080             8.753335 NIRSPEC/IFU\n",
      "                        4C19.71    8.510185833333335 NIRSPEC/IFU\n",
      "       SDSS-J083448.48+015921.1              8.51018 NIRSPEC/IFU\n",
      "                         M17-MC    8.429142222222225 NIRSPEC/IFU\n",
      "                    NGC2023-PDR    8.104944444444433 NIRSPEC/IFU\n",
      "                       UCDE-444    7.780742222222222 NIRSPEC/IFU\n",
      "                        UCD-504    7.780742222222222 NIRSPEC/IFU\n",
      "                  HFLS3-NIRSPEC   7.4565416666666655 NIRSPEC/IFU\n",
      "                   GN20-NIRSPEC   7.4565416666666655 NIRSPEC/IFU\n",
      "                         LID568    7.326864444444444 NIRSPEC/IFU\n",
      "                    GRB-050820A    7.051297222222223 NIRSPEC/IFU\n",
      "                IRAS-04365+2535    7.014686666666666 NIRSPEC/IFU\n",
      "                XID2028-NIRSPEC   6.8081475000000005 NIRSPEC/IFU\n",
      "             SPT0311-58-NIRSPEC            6.7270975 NIRSPEC/IFU\n",
      "                        BG-Z6.3    6.548791111111111 NIRSPEC/IFU\n",
      "                           Z6.3    6.548791111111111 NIRSPEC/IFU\n",
      "                     PJ308-21.W    6.362377777777779 NIRSPEC/IFU\n",
      "                     PJ308-21.E    6.362377777777779 NIRSPEC/IFU\n",
      "            PJ308-21.BACKGROUND    6.362377777777779 NIRSPEC/IFU\n",
      "        M71-NEWCATALOG-GAIAEDR3    6.078708333333326 NIRSPEC/MSA\n",
      "                   PLUTO+CHARON    6.062493333333334 NIRSPEC/IFU\n",
      "                  RXC-J2248-ID3    5.900395555555555 NIRSPEC/IFU\n",
      "                IRAS-18134-1942    5.845577500000001 NIRSPEC/IFU\n",
      "                      IRAS16253   5.8355600000000045 NIRSPEC/IFU\n",
      "                           B335   5.8355600000000045 NIRSPEC/IFU\n",
      "                  539-GS-4.76-A    5.738300000000001 NIRSPEC/IFU\n",
      "                 PDS456-NIRSPEC    5.726277777777778 NIRSPEC/IFU\n",
      "    NGC6791-NEWCATALOG-GAIAEDR3   5.6371477777777725 NIRSPEC/MSA\n",
      "          J1241+2219-BACKGROUND    5.511357499999999 NIRSPEC/IFU\n",
      "                   J1241+2219-D    5.511357499999999 NIRSPEC/IFU\n",
      "                   J1241+2219-B    5.511357499999999 NIRSPEC/IFU\n",
      "                   J1241+2219-C    5.511357499999999 NIRSPEC/IFU\n",
      "                   J1241+2219-A    5.511357499999999 NIRSPEC/IFU\n",
      "                     J2239+0207            5.4708325 NIRSPEC/IFU\n",
      "                    NSC-VCC1075   5.4465200000000005 NIRSPEC/IFU\n",
      "                          J1601    5.106109166666666 NIRSPEC/IFU\n",
      "              SDSSJ0749-NIRSPEC    4.964271666666667 NIRSPEC/IFU\n",
      "              SDSSJ0841-NIRSPEC    4.964271666666667 NIRSPEC/IFU\n",
      "                   SGAS1226-SKY    4.891329722222221 NIRSPEC/IFU\n",
      "                      2010TS191    4.862963333333333 NIRSPEC/IFU\n",
      "                SPIRITS19Q-BKGD    4.862963333333333 NIRSPEC/IFU\n",
      "                        HOPS370   4.8629555555555655 NIRSPEC/IFU\n",
      "      IC166-NEWCATALOG-GAIAEDR3    4.781917222222221 NIRSPEC/MSA\n",
      "                C2014UN271-COPY    4.771897777777778 NIRSPEC/IFU\n",
      "                 SPT0418-47-IFU   4.7657050000000005 NIRSPEC/IFU\n",
      "                        LID3488    4.741388888888888 NIRSPEC/IFU\n",
      "                        LID1166    4.741388888888888 NIRSPEC/IFU\n",
      "                        CID1549    4.741388888888888 NIRSPEC/IFU\n",
      "                        LID2176    4.741388888888888 NIRSPEC/IFU\n",
      "                        LID2619    4.741388888888888 NIRSPEC/IFU\n",
      "                        LID4959    4.741388888888888 NIRSPEC/IFU\n",
      "                          ORCUS    4.700864444444444 NIRSPEC/IFU\n",
      "             HH211-SW-BOW-SHOCK    4.668446666666664 NIRSPEC/IFU\n",
      "       SDSS-J121704.70+023417.1    4.660336666666667 NIRSPEC/IFU\n",
      "            J134040.24+281328.1            4.5590275 NIRSPEC/IFU\n",
      "                            39P    4.538764444444444 NIRSPEC/IFU\n",
      "                        NEPTUNE             4.533305 NIRSPEC/IFU\n",
      "              UGC-08782-NIRSPEC    4.214571111111113 NIRSPEC/IFU\n",
      "                      PANSTARRS            4.2145675 NIRSPEC/IFU\n",
      "       SDSSJ0749-NIRSPEC-REPEAT    4.153778333333333 NIRSPEC/IFU\n",
      "                        UCD-218    4.149728888888888 NIRSPEC/IFU\n",
      "                        UCD-761    4.149728888888888 NIRSPEC/IFU\n",
      "                           M-82    4.133518888888888 NIRSPEC/MSA\n",
      "                      TWA-27-AB    4.117306666666667 NIRSPEC/IFU\n",
      "                         TWA-28    4.117306666666667 NIRSPEC/IFU\n",
      "                      TAU042021    4.109206666666666 NIRSPEC/IFU\n",
      "                           HH30    4.109206666666666 NIRSPEC/IFU\n",
      "                      IRAS04302    4.109206666666666 NIRSPEC/IFU\n",
      "                   NGC3256-NUC2     4.08488888888889 NIRSPEC/IFU\n",
      "                        M17-PDR   3.9714227777777804 NIRSPEC/IFU\n",
      "                 SPT2147-50-IFU   3.9146858333333334 NIRSPEC/IFU\n",
      "               PANSTARRS-OFFSET              3.89037 NIRSPEC/IFU\n",
      "                  551-GS-3.70-A   3.8903688888888888 NIRSPEC/IFU\n",
      "                2949-COS-3.57-A   3.8903688888888888 NIRSPEC/IFU\n",
      "                  133-GS-3.47-A   3.8903688888888888 NIRSPEC/IFU\n",
      "              LBQS0302-0019+JIL   3.8903688888888888 NIRSPEC/IFU\n",
      "                  774-GS-3.61-A   3.8903688888888888 NIRSPEC/IFU\n",
      "                1656-COS-3.51-A   3.8903688888888888 NIRSPEC/IFU\n",
      "                 811-GS-3.471-A   3.8903688888888888 NIRSPEC/IFU\n",
      "                 590-COS-3.53-A   3.8903688888888888 NIRSPEC/IFU\n",
      "                1118-COS-3.65-A   3.8903688888888888 NIRSPEC/IFU\n",
      "                1638-COS-3.49-A   3.8903688888888888 NIRSPEC/IFU\n",
      "                 349-COS-3.49-A   3.8903688888888888 NIRSPEC/IFU\n",
      "                         LEMMON   3.8903688888888883 NIRSPEC/IFU\n",
      "          SPT0418-47-IFU-OFFSET    3.857951666666667 NIRSPEC/IFU\n",
      "                      238P-READ    3.789059166666666 NIRSPEC/IFU\n",
      "                      2007VL305    3.647223333333333 NIRSPEC/IFU\n",
      "                      2011SO277    3.647223333333333 NIRSPEC/IFU\n",
      "            J073103.12+445949.4            3.6472225 NIRSPEC/IFU\n",
      "         C2014UN271-OFFSET-COPY    3.578923333333334 NIRSPEC/IFU\n",
      "                F2M1106-NIRSPEC   3.5256427777777786 NIRSPEC/IFU\n",
      "                       POLYMELE    3.420284444444444 NIRSPEC/IFU\n",
      "                     39P-OFFSET   3.4040733333333337 NIRSPEC/IFU\n",
      "                        UCD-736    3.371653333333333 NIRSPEC/IFU\n",
      "                         3C326N    3.323022777777777 NIRSPEC/IFU\n",
      "              3C326N-BACKGROUND    3.323022777777777 NIRSPEC/IFU\n",
      "                       SN-1987A    3.258187222222223 NIRSPEC/IFU\n",
      "                        UCD-453    3.241973333333333 NIRSPEC/IFU\n",
      "                   SDF-LBG-ID34    3.241973333333333 NIRSPEC/IFU\n",
      "             UCAC4-690-119045-B   3.2419722222222216 NIRSPEC/IFU\n",
      "                         2022E3    3.177133333333333 NIRSPEC/IFU\n",
      "          SPT2147-50-IFU-OFFSET    3.169031388888889 NIRSPEC/IFU\n",
      "                         FSTAUB    3.164980555555555 NIRSPEC/IFU\n",
      "                         IIZW96   3.1406616666666665 NIRSPEC/IFU\n",
      "                      VV114-NUC   3.1406616666666665 NIRSPEC/IFU\n",
      "                    NSC-VCC1661    3.112297777777778 NIRSPEC/IFU\n",
      "                         HKTAUB    3.079878888888888 NIRSPEC/IFU\n",
      "                       GANYMEDE            2.9299825 NIRSPEC/IFU\n",
      "                 COS-2987030247    2.917777777777778 NIRSPEC/IFU\n",
      "                       2013VX30   2.9177766666666662 NIRSPEC/IFU\n",
      "                 JWST-ASTRO-REF   2.8929644444444453 NIRSPEC/MSA\n",
      "                      VHS-1256B   2.8529422222222225 NIRSPEC/IFU\n",
      "                     CED110IRS4   2.8083641666666668 NIRSPEC/IFU\n",
      "                          HH48B   2.8083641666666668 NIRSPEC/IFU\n",
      "         TYC-8998-760-1-B-AND-C    2.771887777777777 NIRSPEC/IFU\n",
      "     NGC6720-NIRSPEC-POSITION-1   2.7556811111111084 NIRSPEC/IFU\n",
      "              C2014UN271-OFFSET            2.6841925 NIRSPEC/IFU\n",
      "     NGC6720-NIRSPEC-POSITION-2   2.6341069444444463 NIRSPEC/IFU\n",
      "            J045853.89+643452.9    2.634104166666667 NIRSPEC/IFU\n",
      "                      HD-143532   2.5530499999999994 NIRSPEC/MSA\n",
      "           CGCG-012-070-NIRSPEC   2.4314833333333343 NIRSPEC/IFU\n",
      "                      2011WG157              2.43148 NIRSPEC/IFU\n",
      "                  ESO-HA569-NIR   2.4314799999999996 NIRSPEC/IFU\n",
      "        IRAS-15398-3359-COMS-NS   2.4314799999999996 NIRSPEC/IFU\n",
      "                         LEUCUS    2.358536388888889 NIRSPEC/IFU\n",
      "             DG-TAU-B-NIRSPEC-2   2.3504338888888894 NIRSPEC/IFU\n",
      "             DG-TAU-B-NIRSPEC-1   2.3504338888888894 NIRSPEC/IFU\n",
      "           A2744-YD4-BACKGROUND   2.3301694444444445 NIRSPEC/IFU\n",
      "                NGC3884-NIRSPEC   2.3099038888888894 NIRSPEC/IFU\n",
      "               SOMBRERO-NIRSPEC   2.2693777777777773 NIRSPEC/IFU\n",
      "                   M-81-NIRSPEC   2.2693777777777773 NIRSPEC/IFU\n",
      "                   M-94-NIRSPEC   2.2693777777777773 NIRSPEC/IFU\n",
      "                HOPS68-THERM-NS    2.236962222222222 NIRSPEC/IFU\n",
      "                  LEMMON-OFFSET            2.1883325 NIRSPEC/IFU\n",
      "                       HD-19467              2.18833 NIRSPEC/IFU\n",
      "                          P330E   2.1559144444444445 NIRSPEC/IFU\n",
      "                            81P    2.139706666666667 NIRSPEC/IFU\n",
      "                      1999RZ253   2.1397033333333333 NIRSPEC/IFU\n",
      "                         QUAOAR   2.0262347222222226 NIRSPEC/IFU\n",
      "                          RM032   1.9938133333333334 NIRSPEC/IFU\n",
      "                         TYPHON   1.9451866666666673 NIRSPEC/IFU\n",
      "                       2014LV28   1.9451866666666673 NIRSPEC/IFU\n",
      "                     SILA-NUMAN   1.9451866666666673 NIRSPEC/IFU\n",
      "                            29P    1.945186666666667 NIRSPEC/IFU\n",
      "                     ARP220-INT   1.9451822222222221 NIRSPEC/IFU\n",
      "                NGC4654-NUCLEUS   1.9451822222222221 NIRSPEC/IFU\n",
      "             MRK231-NUC-NIRSPEC   1.9451822222222221 NIRSPEC/IFU\n",
      "                   MRK231-SHELL   1.9451822222222221 NIRSPEC/IFU\n",
      "                   ARP220-SHELL   1.9451822222222221 NIRSPEC/IFU\n",
      "                             IO   1.9036577777777777 NIRSPEC/IFU\n",
      "                          45756    1.896555555555556 NIRSPEC/IFU\n",
      "                     CD-40-8434   1.8789347222222224 NIRSPEC/IFU\n",
      "                       BDF-3299            1.8600825 NIRSPEC/IFU\n",
      "                       2013KY18              1.82361 NIRSPEC/IFU\n",
      "                  HD44179-SPIKE   1.7871388888888895 NIRSPEC/IFU\n",
      "          SMPLMC58-REFSTARS-CAT   1.7304072222222224 NIRSPEC/MSA\n",
      "                       MAKEMAKE   1.7020372222222226 NIRSPEC/IFU\n",
      "                         TRITON   1.7020366666666669 NIRSPEC/IFU\n",
      "               CENA-NUC-NIRSPEC   1.7020344444444444 NIRSPEC/IFU\n",
      "                     CE-VCC1192   1.6534105555555558 NIRSPEC/IFU\n",
      "                    NSC-VCC1910   1.6534058333333332 NIRSPEC/IFU\n",
      "                           ERIS   1.6209888888888893 NIRSPEC/IFU\n",
      "                   ROSS458C-new   1.6209888888888893 NIRSPEC/IFU\n",
      "             IRAS21282+5050-RIM   1.6209888888888893 NIRSPEC/IFU\n",
      "                         VARUNA            1.6209875 NIRSPEC/IFU\n",
      "                       2012DR30            1.6047775 NIRSPEC/IFU\n",
      "                      2001QD298            1.6047775 NIRSPEC/IFU\n",
      "                       2007RW10            1.6047775 NIRSPEC/IFU\n",
      "                      2001QY297            1.6047775 NIRSPEC/IFU\n",
      "                      2005EF298            1.6047775 NIRSPEC/IFU\n",
      "                       2015SO20            1.6047775 NIRSPEC/IFU\n",
      "                       2000OK67            1.6047775 NIRSPEC/IFU\n",
      "                       2008FC76   1.6007247222222223 NIRSPEC/IFU\n",
      "                       NGC-7469   1.5885644444444442 NIRSPEC/IFU\n",
      "                   NGC3256-NUC1   1.5885644444444442 NIRSPEC/IFU\n",
      "               NGC-4258-NIRSPEC   1.5885644444444442 NIRSPEC/IFU\n",
      "               2022E3BACKGROUND   1.5561466666666666 NIRSPEC/IFU\n",
      "           NGC-2070-S7B-NIRSPEC   1.5561422222222223 NIRSPEC/IFU\n",
      "                          RM312            1.5318325 NIRSPEC/IFU\n",
      "                          RM275            1.5318325 NIRSPEC/IFU\n",
      "                          RM052            1.5318325 NIRSPEC/IFU\n",
      "                          RM332            1.5318325 NIRSPEC/IFU\n",
      "                          RM734            1.5318325 NIRSPEC/IFU\n",
      "                          RM387            1.5318325 NIRSPEC/IFU\n",
      "                          RM470            1.5318325 NIRSPEC/IFU\n",
      "                          RM549            1.5318325 NIRSPEC/IFU\n",
      "                          RM401              1.49536 NIRSPEC/IFU\n",
      "        2MASS-J17430448+6655015   1.4588900000000007 NIRSPEC/IFU\n",
      "                       2005PU21   1.4588900000000002 NIRSPEC/IFU\n",
      "                    MORS-SOMNUS   1.4588900000000002 NIRSPEC/IFU\n",
      "                      2001FZ173   1.4588900000000002 NIRSPEC/IFU\n",
      "                       2005CC79   1.4588900000000002 NIRSPEC/IFU\n",
      "                       2010ET65   1.4588900000000002 NIRSPEC/IFU\n",
      "                       2010ER65   1.4588900000000002 NIRSPEC/IFU\n",
      "              HH48B-SKY-NIRSPEC   1.4467330555555555 NIRSPEC/IFU\n",
      "                 81P-BACKGROUND   1.4264711111111112 NIRSPEC/IFU\n",
      "             BDF3299-BACKGROUND   1.3981016666666666 NIRSPEC/IFU\n",
      "         COSMOS24108-BACKGROUND   1.3981016666666666 NIRSPEC/IFU\n",
      "                         CHIRON   1.3535244444444448 NIRSPEC/IFU\n",
      "                     CE-VCC1199    1.264372777777778 NIRSPEC/IFU\n",
      "                        1995TL8              1.26437 NIRSPEC/IFU\n",
      "        2022E3-FIXED-BACKGROUND   1.2319511111111112 NIRSPEC/IFU\n",
      "                    JUPITER-GRS   1.2168366666666666 NIRSPEC/IFU\n",
      "                     C2014UN271   1.1929744444444443 NIRSPEC/IFU\n",
      "                   M-87-NIRSPEC   1.1914233333333333 NIRSPEC/IFU\n",
      "               NGC-4395-NIRSPEC   1.1914233333333333 NIRSPEC/IFU\n",
      "                        2013XZ8   1.1833222222222224 NIRSPEC/IFU\n",
      "                     CE-VCC1627   1.1671133333333334 NIRSPEC/IFU\n",
      "                     CE-VCC1297   1.1671133333333334 NIRSPEC/IFU\n",
      "                       2002KY14   1.1671099999999999 NIRSPEC/IFU\n",
      "                        2008NW4   1.1671099999999999 NIRSPEC/IFU\n",
      "                   NGC7027-EDGE   1.1346922222222227 NIRSPEC/IFU\n",
      "                  BD+303639-RIM   1.1346922222222227 NIRSPEC/IFU\n",
      "      IRAS21282+5050-BACKGROUND   1.1346922222222227 NIRSPEC/IFU\n",
      "                      ENCELADUS   1.1333244444444444 NIRSPEC/IFU\n",
      "                         EUROPA   1.1333244444444444 NIRSPEC/IFU\n",
      "                      REBELS-32              1.13064 NIRSPEC/IFU\n",
      "                      EURYBATES   1.1225344444444445 NIRSPEC/IFU\n",
      "                    SPIRITS18NU              1.11848 NIRSPEC/IFU\n",
      "            NAME-CARTWHEEL-CORE   1.1063252777777777 NIRSPEC/IFU\n",
      "                     29P-OFFSET            1.0941675 NIRSPEC/IFU\n",
      "        HD-18511-PSF-CALIBRATOR              1.09416 NIRSPEC/IFU\n",
      " OFFSET-PANSTARRS-C17K2-UPDATED   1.0736766666666666 NIRSPEC/IFU\n",
      "               22P-KOPFF-OFFSET   1.0698519444444445 NIRSPEC/IFU\n",
      "                    NSC-VCC1261   1.0698508333333332 NIRSPEC/IFU\n",
      "                      REBELS-34             1.057695 NIRSPEC/IFU\n",
      "                      22P-KOPFF   1.0536433333333333 NIRSPEC/IFU\n",
      "                       LD2ATLAS    1.053642777777778 NIRSPEC/IFU\n",
      "                     GRB150403A   1.0536411111111113 NIRSPEC/IFU\n",
      "              BACKGROUND-RETURN   1.0333780555555556 NIRSPEC/IFU\n",
      "             CASSIOPEIA-A-KNOT3   1.0333780555555556 NIRSPEC/IFU\n",
      "             CASSIOPEIA-A-KNOT2   1.0333780555555556 NIRSPEC/IFU\n",
      "                   NGC1333-SVS3   1.0212222222222225 NIRSPEC/IFU\n",
      "                        JUPITER   1.0080633333333335 NIRSPEC/IFU\n",
      "                           ORUS   0.9847508333333334 NIRSPEC/IFU\n",
      "                       2004EW95   0.9725933333333336 NIRSPEC/IFU\n",
      "                       2007OC10   0.9725933333333336 NIRSPEC/IFU\n",
      "                       2010VZ98   0.9725933333333336 NIRSPEC/IFU\n",
      "                      2004PG115   0.9725933333333336 NIRSPEC/IFU\n",
      "                 TITAN-TRAILING   0.9543799999999999 NIRSPEC/IFU\n",
      "                         PSYCHE    0.930511111111111 NIRSPEC/IFU\n",
      "                      2003FY128   0.8915438888888889 NIRSPEC/IFU\n",
      "                        PALLENE   0.8915430555555555 NIRSPEC/IFU\n",
      "                IRAS-05248-7007            0.8834375 NIRSPEC/IFU\n",
      "              ORIBAR-BACKGROUND    0.876841388888889 NIRSPEC/IFU\n",
      "                       1996TL66            0.8753325 NIRSPEC/IFU\n",
      "                      2005TB190            0.8753325 NIRSPEC/IFU\n",
      "                        OKYRHOE            0.8753325 NIRSPEC/IFU\n",
      "                        2003WL7            0.8753325 NIRSPEC/IFU\n",
      "                      1998SN165            0.8753325 NIRSPEC/IFU\n",
      "                       2010VW11            0.8753325 NIRSPEC/IFU\n",
      "                       2004NT33            0.8753325 NIRSPEC/IFU\n",
      "                      2003UR292            0.8753325 NIRSPEC/IFU\n",
      "                       2007JF43            0.8753325 NIRSPEC/IFU\n",
      "                       2014YF50            0.8753325 NIRSPEC/IFU\n",
      "                      2005QU182            0.8753325 NIRSPEC/IFU\n",
      "                      2003UZ413            0.8753325 NIRSPEC/IFU\n",
      "               PSFSTARULASJ1342   0.8753299999999996 NIRSPEC/IFU\n",
      "                PSFSTARUHSJ0439   0.8753299999999996 NIRSPEC/IFU\n",
      "                       2005RN43   0.7780733333333334 NIRSPEC/IFU\n",
      "                      2002TC302   0.7780733333333334 NIRSPEC/IFU\n",
      "                       NGC-7319   0.7578127777777778 NIRSPEC/IFU\n",
      "                       2010KR59   0.7294450000000001 NIRSPEC/IFU\n",
      "                       2002XV93   0.7294450000000001 NIRSPEC/IFU\n",
      "                LD2ATLAS-OFFSET   0.7294450000000001 NIRSPEC/IFU\n",
      "                        1999DE9   0.7294450000000001 NIRSPEC/IFU\n",
      "                      2004PF115   0.7294450000000001 NIRSPEC/IFU\n",
      "                       2007OR10             0.729445 NIRSPEC/IFU\n",
      "                      2004PT107             0.729445 NIRSPEC/IFU\n",
      "             NEPTUNE-BACKGROUND             0.715785 NIRSPEC/IFU\n",
      "              URANUS-BACKGROUND             0.715785 NIRSPEC/IFU\n",
      "                      A1689-ZD1   0.7132333333333333 NIRSPEC/IFU\n",
      "                     IC-860-NIR    0.688920277777778 NIRSPEC/IFU\n",
      "            NGC6720-NIRSPEC-OFF    0.688920277777778 NIRSPEC/IFU\n",
      "             CASSIOPEIA-A-KNOT1    0.688920277777778 NIRSPEC/IFU\n",
      "                      2003UZ117   0.6808141666666666 NIRSPEC/IFU\n",
      "                        THEREUS   0.6808133333333333 NIRSPEC/IFU\n",
      "                       1999TC36   0.6808133333333333 NIRSPEC/IFU\n",
      "              M87-SKYBACKGROUND   0.6483955555555556 NIRSPEC/IFU\n",
      "              M49-SKYBACKGROUND   0.6483955555555556 NIRSPEC/IFU\n",
      "         NIRISS-NEW-FOCUS-FIELD   0.6263133333333332 NIRSPEC/MSA\n",
      "                       2003MW12             0.583555 NIRSPEC/IFU\n",
      "                      2004TY364             0.583555 NIRSPEC/IFU\n",
      "                      2004XA192             0.583555 NIRSPEC/IFU\n",
      "                       2001XY84   0.5673461111111111 NIRSPEC/IFU\n",
      "                     GCRV-21765   0.5666644444444443 NIRSPEC/IFU\n",
      "           PSOJ318.5338-22.8603   0.5187155555555556 NIRSPEC/IFU\n",
      "                         AMYCUS   0.5106116666666667 NIRSPEC/IFU\n",
      "                       2002UX25              0.51061 NIRSPEC/IFU\n",
      "                        2002MS4   0.5065583333333332 NIRSPEC/IFU\n",
      "                       1999KR16   0.5065583333333332 NIRSPEC/IFU\n",
      "                          SEDNA   0.5065583333333332 NIRSPEC/IFU\n",
      "                        SALACIA   0.5065583333333332 NIRSPEC/IFU\n",
      "                  PSYCHE-OFFSET   0.5010444444444445 NIRSPEC/IFU\n",
      "                       UGC-5101   0.4921027777777778 NIRSPEC/IFU\n",
      "                       1995SM55   0.4862966666666667 NIRSPEC/IFU\n",
      "                       2003OP32   0.4862966666666667 NIRSPEC/IFU\n",
      "                      2010EK139  0.43766750000000004 NIRSPEC/IFU\n",
      "                      2007UK126  0.43766750000000004 NIRSPEC/IFU\n",
      "                           HUYA  0.43766750000000004 NIRSPEC/IFU\n",
      "                         HAUMEA   0.4255086111111111 NIRSPEC/IFU\n",
      "                   NGC-4418-NIR  0.40561055555555553 NIRSPEC/IFU\n",
      "                       CHARIKLO  0.40524722222222226 NIRSPEC/IFU\n",
      "                IRAS-04074-2801  0.36472250000000006 NIRSPEC/IFU\n",
      "                      2002TX300  0.36472166666666667 NIRSPEC/IFU\n",
      "                        TELESTO  0.36472166666666667 NIRSPEC/IFU\n",
      "                      2002AW197  0.36472166666666667 NIRSPEC/IFU\n",
      "                       2005RR43  0.36472166666666667 NIRSPEC/IFU\n",
      "                       2004UX10  0.32419722222222225 NIRSPEC/IFU\n",
      "              NIRSPEC-PSF-J0313  0.30421027777777776 NIRSPEC/IFU\n",
      "                      2005UQ513  0.30393472222222223 NIRSPEC/IFU\n",
      "                      KLEOPATRA   0.2917766666666667 NIRSPEC/IFU\n",
      "              JUPITER-FIXED-66S  0.28631999999999996 NIRSPEC/IFU\n",
      "                IRAS-10565+2448  0.28035027777777777 NIRSPEC/IFU\n",
      "                        MRK-273  0.27736777777777777 NIRSPEC/IFU\n",
      "                PANSTARRS-C17K2  0.26841916666666665 NIRSPEC/IFU\n",
      "        PANSTARRS-C17K2-UPDATED  0.26841916666666665 NIRSPEC/IFU\n",
      "                        1-CERES             0.267465 NIRSPEC/IFU\n",
      "                      PATROCLUS   0.2593588888888889 NIRSPEC/IFU\n",
      "                       2-PALLAS              0.24315 NIRSPEC/IFU\n",
      "      REVISED-CATALOG-11NOV2022  0.22368333333333335 NIRSPEC/MSA\n",
      "                      10-HYGIEA             0.218835 NIRSPEC/IFU\n",
      "                       2013LU28            0.2188325 NIRSPEC/IFU\n",
      "              MPTCAT-NIRCAM-ACS             0.214735 NIRSPEC/MSA\n",
      "                IRAS-10494+4424  0.15210277777777778 NIRSPEC/IFU\n",
      "                       CALLISTO              0.14316 NIRSPEC/IFU\n",
      "              JUPITER-FIXED-62S  0.14315999999999998 NIRSPEC/IFU\n",
      "        2MASS-J17540383-2810466  0.14315555555555556 NIRSPEC/IFU\n",
      "                 TYC-3986-834-1  0.14315555555555556 NIRSPEC/IFU\n",
      "                     BD+04-3653  0.14315555555555556 NIRSPEC/IFU\n",
      "        2MASS-J15395077-3404566  0.14315555555555556 NIRSPEC/IFU\n",
      "                     SMP-LMC-58  0.14183555555555555 NIRSPEC/MSA\n",
      "                  TITAN-LEADING              0.13421 NIRSPEC/IFU\n",
      "                         HEKTOR            0.1094175 NIRSPEC/IFU\n",
      "                        PANDORA  0.10736833333333336 NIRSPEC/IFU\n",
      "                     EPIMETHEUS  0.10736833333333336 NIRSPEC/IFU\n",
      "                  617-PATROCLUS            0.0851025 NIRSPEC/IFU\n",
      "               MPTCAT-MORESTARS  0.05964861111111112 NIRSPEC/MSA\n",
      "              NIRSPEC-PSF-J1007  0.05368416666666667 NIRSPEC/IFU\n",
      "             CEERS-MSA-FINAL-DD 0.044736111111111115 NIRSPEC/MSA\n"
     ]
    }
   ],
   "source": [
    "print(\"total hours: {}\".format(available_targets_full[\"t_total\"].sum()))\n",
    "print(\"total targets: {}\".format(len(available_targets_full)))\n",
    "\n",
    "available_targets_full[\"target_name\", \"t_total\", \"instrument\"].pprint(max_lines=-1)\n"
   ]
  },
  {
   "cell_type": "markdown",
   "id": "d3106687",
   "metadata": {},
   "source": [
    "This total hours is "
   ]
  },
  {
   "cell_type": "code",
   "execution_count": 24,
   "id": "c9cd87fa",
   "metadata": {},
   "outputs": [
    {
     "name": "stdout",
     "output_type": "stream",
     "text": [
      "9.562799473585809 years\n"
     ]
    }
   ],
   "source": [
    "print(\"{} years\".format(available_targets_full[\"t_total\"].sum()/(365*24)))"
   ]
  },
  {
   "cell_type": "markdown",
   "id": "7811c55b",
   "metadata": {},
   "source": [
    "so something here is wrong...."
   ]
  },
  {
   "cell_type": "code",
   "execution_count": 25,
   "id": "8ad167ed",
   "metadata": {},
   "outputs": [
    {
     "data": {
      "text/html": [
       "<i>Row index=0</i>\n",
       "<table id=\"table140556980778608\">\n",
       "<thead><tr><th>target_name</th><th>t_total</th><th>RA</th><th>Dec</th><th>instrument</th><th>proposal_id</th><th>PI</th><th>description</th></tr></thead>\n",
       "<thead><tr><th>str31</th><th>float64</th><th>float64</th><th>float64</th><th>str11</th><th>str4</th><th>str29</th><th>str150</th></tr></thead>\n",
       "<tr><td>GS-MEDIUM-HST</td><td>9648.9814950006</td><td>53.15372125</td><td>-27.78036944444443</td><td>NIRSPEC/MSA</td><td>1180</td><td>Eisenstein, Daniel J.</td><td>NIRCam-NIRSpec galaxy assembly survey - GOODS-S - part #1a</td></tr>\n",
       "</table>"
      ],
      "text/plain": [
       "<Row index=0>\n",
       " target_name      t_total          RA            Dec          instrument proposal_id           PI                                 description                        \n",
       "    str31         float64       float64        float64          str11        str4            str29                                   str150                          \n",
       "------------- --------------- ----------- ------------------ ----------- ----------- --------------------- ----------------------------------------------------------\n",
       "GS-MEDIUM-HST 9648.9814950006 53.15372125 -27.78036944444443 NIRSPEC/MSA        1180 Eisenstein, Daniel J. NIRCam-NIRSpec galaxy assembly survey - GOODS-S - part #1a"
      ]
     },
     "execution_count": 25,
     "metadata": {},
     "output_type": "execute_result"
    }
   ],
   "source": [
    "available_targets_full[0]"
   ]
  },
  {
   "cell_type": "code",
   "execution_count": 26,
   "id": "1dd8c070",
   "metadata": {},
   "outputs": [
    {
     "data": {
      "text/html": [
       "&lt;MaskedColumn name=&apos;obs_title&apos; dtype=&apos;str150&apos; length=21021&gt;\n",
       "<table>\n",
       "<tr><td>NIRCam Pre-Coarse Phasing Verification (CAR NIRCam-05)</td></tr>\n",
       "<tr><td>OTE-26 Routine WFSC/CC Jitter Maintenance</td></tr>\n",
       "<tr><td>JWST Routine Wavefront Sensing and Control for Cycle 1 - Part 1</td></tr>\n",
       "<tr><td>Absolute Flux Calibration (G Dwarfs)</td></tr>\n",
       "<tr><td>OTE-26 Routine WFSC/CC Jitter Maintenance</td></tr>\n",
       "<tr><td>...</td></tr>\n",
       "<tr><td>NIRCam Subarray Dark Current and Read-Noise Monitor</td></tr>\n",
       "<tr><td>Absolute Flux Calibration (White Dwarfs)</td></tr>\n",
       "<tr><td>OTE-07 Global Alignment 1</td></tr>\n",
       "<tr><td>OTE-12 Coarse Phasing - 1 (For Coarse MIMF)</td></tr>\n",
       "</table>"
      ],
      "text/plain": [
       "<MaskedColumn name='obs_title' dtype='str150' length=21021>\n",
       "         NIRCam Pre-Coarse Phasing Verification (CAR NIRCam-05)\n",
       "                      OTE-26 Routine WFSC/CC Jitter Maintenance\n",
       "JWST Routine Wavefront Sensing and Control for Cycle 1 - Part 1\n",
       "                           Absolute Flux Calibration (G Dwarfs)\n",
       "                      OTE-26 Routine WFSC/CC Jitter Maintenance\n",
       "                                                            ...\n",
       "            NIRCam Subarray Dark Current and Read-Noise Monitor\n",
       "                       Absolute Flux Calibration (White Dwarfs)\n",
       "                                      OTE-07 Global Alignment 1\n",
       "                    OTE-12 Coarse Phasing - 1 (For Coarse MIMF)"
      ]
     },
     "execution_count": 26,
     "metadata": {},
     "output_type": "execute_result"
    }
   ],
   "source": [
    "all_jwst[all_jwst[\"intentType\"]==\"calibration\"][\"obs_title\"]"
   ]
  },
  {
   "cell_type": "code",
   "execution_count": 27,
   "id": "abed9a6b",
   "metadata": {},
   "outputs": [
    {
     "data": {
      "text/html": [
       "<div><i>Table masked=True length=22</i>\n",
       "<table id=\"table140556980771840\" class=\"table-striped table-bordered table-condensed\">\n",
       "<thead><tr><th>intentType</th><th>obs_collection</th><th>provenance_name</th><th>instrument_name</th><th>project</th><th>filters</th><th>wavelength_region</th><th>target_name</th><th>target_classification</th><th>obs_id</th><th>s_ra</th><th>s_dec</th><th>dataproduct_type</th><th>proposal_pi</th><th>calib_level</th><th>t_min</th><th>t_max</th><th>t_exptime</th><th>em_min</th><th>em_max</th><th>obs_title</th><th>t_obs_release</th><th>proposal_id</th><th>proposal_type</th><th>sequence_number</th><th>s_region</th><th>jpegURL</th><th>dataURL</th><th>dataRights</th><th>mtFlag</th><th>srcDen</th><th>obsid</th><th>objID</th></tr></thead>\n",
       "<thead><tr><th>str7</th><th>str4</th><th>str7</th><th>str11</th><th>str4</th><th>str12</th><th>str8</th><th>str27</th><th>str1</th><th>str39</th><th>float64</th><th>float64</th><th>str8</th><th>str29</th><th>int64</th><th>float64</th><th>float64</th><th>float64</th><th>float64</th><th>float64</th><th>str148</th><th>float64</th><th>str4</th><th>str3</th><th>int64</th><th>str182</th><th>str65</th><th>str66</th><th>str6</th><th>bool</th><th>float64</th><th>str9</th><th>str9</th></tr></thead>\n",
       "<tr><td>science</td><td>JWST</td><td>CALJWST</td><td>NIRSPEC/IFU</td><td>JWST</td><td>F170LP;G235M</td><td>INFRARED</td><td>GNZ11</td><td>--</td><td>jw04426-o001_t001_nirspec_g235m-f170lp</td><td>189.1060420833333</td><td>62.24204166666667</td><td>cube</td><td>Maiolino, Roberto</td><td>3</td><td>60087.18656565764</td><td>60087.64128767361</td><td>37931.10999999999</td><td>1660.0</td><td>5000.0</td><td>An unprecedented spatially resolved analysis of the brightest galaxy at z&gt;10 in GOODS-N</td><td>60088.57688648</td><td>4426</td><td>DD</td><td>--</td><td>POLYGON 189.104446574 62.241523579 189.104446574 62.24263469 189.107190187 62.24263469 189.107190187 62.241523579</td><td>mast:JWST/product/jw04426-o001_t001_nirspec_g235m-f170lp_s3d.jpg</td><td>mast:JWST/product/jw04426-o001_t001_nirspec_g235m-f170lp_s3d.fits</td><td>PUBLIC</td><td>False</td><td>nan</td><td>139257240</td><td>254462456</td></tr>\n",
       "<tr><td>science</td><td>JWST</td><td>CALJWST</td><td>NIRSPEC/IFU</td><td>JWST</td><td>F100LP;G140M</td><td>INFRARED</td><td>GNZ11</td><td>--</td><td>jw04426-o001_t001_nirspec_g140m-f100lp</td><td>189.1060420833333</td><td>62.24204166666667</td><td>cube</td><td>Maiolino, Roberto</td><td>3</td><td>60087.64415798507</td><td>60087.79055493056</td><td>11671.11</td><td>700.0</td><td>5000.0</td><td>An unprecedented spatially resolved analysis of the brightest galaxy at z&gt;10 in GOODS-N</td><td>60088.57688648</td><td>4426</td><td>DD</td><td>--</td><td>POLYGON 189.104438784 62.241521819 189.104438784 62.24263293 189.107182396 62.24263293 189.107182396 62.241521819</td><td>mast:JWST/product/jw04426-o001_t001_nirspec_g140m-f100lp_s3d.jpg</td><td>mast:JWST/product/jw04426-o001_t001_nirspec_g140m-f100lp_s3d.fits</td><td>PUBLIC</td><td>False</td><td>nan</td><td>139257277</td><td>254462505</td></tr>\n",
       "<tr><td>...</td><td>...</td><td>...</td><td>...</td><td>...</td><td>...</td><td>...</td><td>...</td><td>...</td><td>...</td><td>...</td><td>...</td><td>...</td><td>...</td><td>...</td><td>...</td><td>...</td><td>...</td><td>...</td><td>...</td><td>...</td><td>...</td><td>...</td><td>...</td><td>...</td><td>...</td><td>...</td><td>...</td><td>...</td><td>...</td><td>...</td><td>...</td><td>...</td></tr>\n",
       "<tr><td>science</td><td>JWST</td><td>CALJWST</td><td>NIRSPEC/IFU</td><td>JWST</td><td>F100LP;G140M</td><td>INFRARED</td><td>GNZ11</td><td>--</td><td>jw04426001001_04101_00003_nrs2</td><td>189.1060420833333</td><td>62.24204166666667</td><td>image</td><td>Maiolino, Roberto</td><td>2</td><td>60087.67370757998</td><td>60087.68738466435</td><td>1167.111</td><td>700.0</td><td>5000.0</td><td>An unprecedented spatially resolved analysis of the brightest galaxy at z&gt;10 in GOODS-N</td><td>60088.54793974</td><td>4426</td><td>DD</td><td>--</td><td>POLYGON 189.104727689 62.242567058 189.106634511 62.242527523 189.106574567 62.241667694 189.104668078 62.241707027</td><td>mast:JWST/product/jw04426001001_04101_00003_nrs2_rateints.jpg</td><td>mast:JWST/product/jw04426001001_04101_00003_nrs2_rateints.fits</td><td>PUBLIC</td><td>False</td><td>nan</td><td>139243752</td><td>254475304</td></tr>\n",
       "<tr><td>science</td><td>JWST</td><td>CALJWST</td><td>NIRSPEC/IFU</td><td>JWST</td><td>F100LP;G140M</td><td>INFRARED</td><td>GNZ11</td><td>--</td><td>jw04426001001_04101_00008_nrs2</td><td>189.1060420833333</td><td>62.24204166666667</td><td>image</td><td>Maiolino, Roberto</td><td>2</td><td>60087.74732825127</td><td>60087.76100533565</td><td>1167.111</td><td>700.0</td><td>5000.0</td><td>An unprecedented spatially resolved analysis of the brightest galaxy at z&gt;10 in GOODS-N</td><td>60088.55570586</td><td>4426</td><td>DD</td><td>--</td><td>POLYGON 189.104936169 62.242584304 189.106842992 62.242544767 189.106783042 62.241684938 189.104876552 62.241724274</td><td>mast:JWST/product/jw04426001001_04101_00008_nrs2_rateints.jpg</td><td>mast:JWST/product/jw04426001001_04101_00008_nrs2_rateints.fits</td><td>PUBLIC</td><td>False</td><td>nan</td><td>139243790</td><td>254475428</td></tr>\n",
       "<tr><td>science</td><td>JWST</td><td>CALJWST</td><td>NIRSPEC/IFU</td><td>JWST</td><td>F170LP;G235M</td><td>INFRARED</td><td>GNZ11</td><td>--</td><td>jw04426001001_02101_00008_nrs2</td><td>189.1060420833333</td><td>62.24204166666667</td><td>image</td><td>Maiolino, Roberto</td><td>2</td><td>60087.50603571551</td><td>60087.55027517361</td><td>3793.111</td><td>1660.0</td><td>5000.0</td><td>An unprecedented spatially resolved analysis of the brightest galaxy at z&gt;10 in GOODS-N</td><td>60088.55951381</td><td>4426</td><td>DD</td><td>--</td><td>POLYGON 189.104935628 62.242584544 189.106842451 62.242545005 189.106782497 62.241685176 189.104876007 62.241724514</td><td>mast:JWST/product/jw04426001001_02101_00008_nrs2_rateints.jpg</td><td>mast:JWST/product/jw04426001001_02101_00008_nrs2_rateints.fits</td><td>PUBLIC</td><td>False</td><td>nan</td><td>139243801</td><td>254475484</td></tr>\n",
       "</table></div>"
      ],
      "text/plain": [
       "<Table masked=True length=22>\n",
       "intentType obs_collection provenance_name instrument_name ...  srcDen   obsid     objID  \n",
       "   str7         str4            str7           str11      ... float64    str9      str9  \n",
       "---------- -------------- --------------- --------------- ... ------- --------- ---------\n",
       "   science           JWST         CALJWST     NIRSPEC/IFU ...     nan 139257240 254462456\n",
       "   science           JWST         CALJWST     NIRSPEC/IFU ...     nan 139257277 254462505\n",
       "       ...            ...             ...             ... ...     ...       ...       ...\n",
       "   science           JWST         CALJWST     NIRSPEC/IFU ...     nan 139243752 254475304\n",
       "   science           JWST         CALJWST     NIRSPEC/IFU ...     nan 139243790 254475428\n",
       "   science           JWST         CALJWST     NIRSPEC/IFU ...     nan 139243801 254475484"
      ]
     },
     "execution_count": 27,
     "metadata": {},
     "output_type": "execute_result"
    }
   ],
   "source": [
    "GNZ11 = with_data[with_data[\"target_name\"] == \"GNZ11\"]\n",
    "GNZ11"
   ]
  },
  {
   "cell_type": "code",
   "execution_count": 28,
   "id": "e672eac3",
   "metadata": {},
   "outputs": [
    {
     "data": {
      "text/html": [
       "<div><i>Table masked=True length=1705</i>\n",
       "<table id=\"table140556980780528\" class=\"table-striped table-bordered table-condensed\">\n",
       "<thead><tr><th>obsID</th><th>obs_collection</th><th>dataproduct_type</th><th>obs_id</th><th>description</th><th>type</th><th>dataURI</th><th>productType</th><th>productGroupDescription</th><th>productSubGroupDescription</th><th>productDocumentationURL</th><th>project</th><th>prvversion</th><th>proposal_id</th><th>productFilename</th><th>size</th><th>parent_obsid</th><th>dataRights</th><th>calib_level</th></tr></thead>\n",
       "<thead><tr><th>str9</th><th>str4</th><th>str5</th><th>str38</th><th>str64</th><th>str1</th><th>str70</th><th>str9</th><th>str28</th><th>str9</th><th>str1</th><th>str7</th><th>str6</th><th>str4</th><th>str52</th><th>int64</th><th>str9</th><th>str6</th><th>int64</th></tr></thead>\n",
       "<tr><td>139257277</td><td>JWST</td><td>cube</td><td>jw04426-o001_t001_nirspec_g140m-f100lp</td><td>source/target (L3) : association generator</td><td>D</td><td>mast:JWST/product/jw04426-o001_20230524t125457_spec3_00001_asn.json</td><td>INFO</td><td>Minimum Recommended Products</td><td>ASN</td><td>--</td><td>CALJWST</td><td>1.10.1</td><td>4426</td><td>jw04426-o001_20230524t125457_spec3_00001_asn.json</td><td>4013</td><td>139257277</td><td>PUBLIC</td><td>3</td></tr>\n",
       "<tr><td>139257277</td><td>JWST</td><td>cube</td><td>jw04426-o001_t001_nirspec_g140m-f100lp</td><td>source/target (L3) : association pool</td><td>D</td><td>mast:JWST/product/jw04426_20230524t125457_pool.csv</td><td>INFO</td><td>Minimum Recommended Products</td><td>POOL</td><td>--</td><td>CALJWST</td><td>1.10.1</td><td>4426</td><td>jw04426_20230524t125457_pool.csv</td><td>17655</td><td>139257277</td><td>PUBLIC</td><td>3</td></tr>\n",
       "<tr><td>...</td><td>...</td><td>...</td><td>...</td><td>...</td><td>...</td><td>...</td><td>...</td><td>...</td><td>...</td><td>...</td><td>...</td><td>...</td><td>...</td><td>...</td><td>...</td><td>...</td><td>...</td><td>...</td></tr>\n",
       "<tr><td>139243647</td><td>JWST</td><td>image</td><td>jw04426001001_04101_00010_nrs1</td><td>FGS guide star tracking</td><td>S</td><td>mast:JWST/product/jw04426001001_gs-track_2023143183812_uncal.fits</td><td>AUXILIARY</td><td>--</td><td>GS-TRACK</td><td>--</td><td>CALJWST</td><td>--</td><td>4426</td><td>jw04426001001_gs-track_2023143183812_uncal.fits</td><td>915840</td><td>139257277</td><td>PUBLIC</td><td>1</td></tr>\n",
       "<tr><td>139243647</td><td>JWST</td><td>image</td><td>jw04426001001_04101_00010_nrs1</td><td>Preview-Full</td><td>S</td><td>mast:JWST/product/jw04426001001_04101_00010_nrs1_uncal.jpg</td><td>PREVIEW</td><td>--</td><td>--</td><td>--</td><td>CALJWST</td><td>--</td><td>4426</td><td>jw04426001001_04101_00010_nrs1_uncal.jpg</td><td>1585489</td><td>139257277</td><td>PUBLIC</td><td>1</td></tr>\n",
       "<tr><td>139243647</td><td>JWST</td><td>image</td><td>jw04426001001_04101_00010_nrs1</td><td>exposure (L1b): Uncalibrated 4D exposure data</td><td>S</td><td>mast:JWST/product/jw04426001001_04101_00010_nrs1_uncal.fits</td><td>SCIENCE</td><td>--</td><td>UNCAL</td><td>--</td><td>CALJWST</td><td>--</td><td>4426</td><td>jw04426001001_04101_00010_nrs1_uncal.fits</td><td>209767680</td><td>139257277</td><td>PUBLIC</td><td>1</td></tr>\n",
       "</table></div>"
      ],
      "text/plain": [
       "<Table masked=True length=1705>\n",
       "  obsID   obs_collection dataproduct_type ... parent_obsid dataRights calib_level\n",
       "   str9        str4            str5       ...     str9        str6       int64   \n",
       "--------- -------------- ---------------- ... ------------ ---------- -----------\n",
       "139257277           JWST             cube ...    139257277     PUBLIC           3\n",
       "139257277           JWST             cube ...    139257277     PUBLIC           3\n",
       "      ...            ...              ... ...          ...        ...         ...\n",
       "139243647           JWST            image ...    139257277     PUBLIC           1\n",
       "139243647           JWST            image ...    139257277     PUBLIC           1\n",
       "139243647           JWST            image ...    139257277     PUBLIC           1"
      ]
     },
     "execution_count": 28,
     "metadata": {},
     "output_type": "execute_result"
    }
   ],
   "source": [
    "obv.get_product_list(GNZ11[1])"
   ]
  },
  {
   "cell_type": "code",
   "execution_count": 29,
   "id": "6a3b11ee",
   "metadata": {},
   "outputs": [
    {
     "data": {
      "text/html": [
       "&lt;MaskedColumn name=&apos;description&apos; dtype=&apos;str64&apos; length=15&gt;\n",
       "<table>\n",
       "<tr><td>FGS guide star fine guide</td></tr>\n",
       "<tr><td>FGS guide star identification</td></tr>\n",
       "<tr><td>FGS guide star tracking</td></tr>\n",
       "<tr><td>FGS1 guide star acquisition</td></tr>\n",
       "<tr><td>FGS2 guide star acquisition</td></tr>\n",
       "<tr><td>...</td></tr>\n",
       "<tr><td>exposure/target (L2b/L3): 1D extracted spectrum</td></tr>\n",
       "<tr><td>exposure/target (L2b/L3): 3D image of spectrum</td></tr>\n",
       "<tr><td>source/target (L3) : association generator</td></tr>\n",
       "<tr><td>source/target (L3) : association pool</td></tr>\n",
       "</table>"
      ],
      "text/plain": [
       "<MaskedColumn name='description' dtype='str64' length=15>\n",
       "                      FGS guide star fine guide\n",
       "                  FGS guide star identification\n",
       "                        FGS guide star tracking\n",
       "                    FGS1 guide star acquisition\n",
       "                    FGS2 guide star acquisition\n",
       "                                            ...\n",
       "exposure/target (L2b/L3): 1D extracted spectrum\n",
       " exposure/target (L2b/L3): 3D image of spectrum\n",
       "     source/target (L3) : association generator\n",
       "          source/target (L3) : association pool"
      ]
     },
     "execution_count": 29,
     "metadata": {},
     "output_type": "execute_result"
    }
   ],
   "source": [
    "np.unique(obv.get_product_list(GNZ11[1])[\"description\"])"
   ]
  },
  {
   "cell_type": "code",
   "execution_count": 30,
   "id": "ab968970",
   "metadata": {},
   "outputs": [
    {
     "data": {
      "text/html": [
       "<i>Row index=0</i>\n",
       "<table id=\"table140557968397104\">\n",
       "<thead><tr><th>intentType</th><th>obs_collection</th><th>provenance_name</th><th>instrument_name</th><th>project</th><th>filters</th><th>wavelength_region</th><th>target_name</th><th>target_classification</th><th>obs_id</th><th>s_ra</th><th>s_dec</th><th>dataproduct_type</th><th>proposal_pi</th><th>calib_level</th><th>t_min</th><th>t_max</th><th>t_exptime</th><th>em_min</th><th>em_max</th><th>obs_title</th><th>t_obs_release</th><th>proposal_id</th><th>proposal_type</th><th>sequence_number</th><th>s_region</th><th>jpegURL</th><th>dataURL</th><th>dataRights</th><th>mtFlag</th><th>srcDen</th><th>obsid</th><th>objID</th></tr></thead>\n",
       "<thead><tr><th>str11</th><th>str4</th><th>str7</th><th>str11</th><th>str4</th><th>str12</th><th>str8</th><th>str31</th><th>str1</th><th>str41</th><th>float64</th><th>float64</th><th>str8</th><th>str31</th><th>int64</th><th>float64</th><th>float64</th><th>float64</th><th>float64</th><th>float64</th><th>str150</th><th>float64</th><th>str4</th><th>str3</th><th>int64</th><th>str182</th><th>str67</th><th>str68</th><th>str16</th><th>bool</th><th>float64</th><th>str9</th><th>str9</th></tr></thead>\n",
       "<tr><td>science</td><td>JWST</td><td>CALJWST</td><td>NIRSPEC/MSA</td><td>JWST</td><td>F170LP;G235M</td><td>Infrared</td><td>GS-MEDIUM-HST</td><td>--</td><td>jw01180-o135_s09657_nirspec_f170lp-g235m</td><td>53.15372125</td><td>-27.78036944444443</td><td>image</td><td>Eisenstein, Daniel J.</td><td>3</td><td>59972.18571851482</td><td>59972.63680924768</td><td>9322.298999999999</td><td>1660.0</td><td>5000.0</td><td>NIRCam-NIRSpec galaxy assembly survey - GOODS-S - part #1a</td><td>60338.58098364</td><td>1180</td><td>GTO</td><td>--</td><td>POLYGON 53.173231306 -27.818050097 53.173611204 -27.818050097 53.173611204 -27.818714517 53.173231306 -27.818714517</td><td>mast:JWST/product/jw01180-o135_s09657_nirspec_f170lp-g235m_cal.jpg</td><td>mast:JWST/product/jw01180-o135_s09657_nirspec_f170lp-g235m_s2d.fits</td><td>EXCLUSIVE_ACCESS</td><td>False</td><td>nan</td><td>120902629</td><td>248184140</td></tr>\n",
       "</table>"
      ],
      "text/plain": [
       "<Row index=0>\n",
       "intentType obs_collection provenance_name instrument_name project   filters    wavelength_region  target_name  target_classification                  obs_id                      s_ra          s_dec        dataproduct_type      proposal_pi      calib_level       t_min             t_max           t_exptime      em_min  em_max                         obs_title                          t_obs_release  proposal_id proposal_type sequence_number                                                       s_region                                                                                   jpegURL                                                             dataURL                                  dataRights    mtFlag  srcDen   obsid     objID  \n",
       "  str11         str4            str7           str11        str4     str12            str8           str31              str1                          str41                     float64        float64             str8               str31            int64         float64           float64           float64      float64 float64                           str150                              float64         str4         str3          int64                                                             str182                                                                                     str67                                                               str68                                     str16        bool  float64    str9      str9  \n",
       "---------- -------------- --------------- --------------- ------- ------------ ----------------- ------------- --------------------- ---------------------------------------- ----------- ------------------ ---------------- --------------------- ----------- ----------------- ----------------- ----------------- ------- ------- ---------------------------------------------------------- -------------- ----------- ------------- --------------- ------------------------------------------------------------------------------------------------------------------- ------------------------------------------------------------------ ------------------------------------------------------------------- ---------------- ------ ------- --------- ---------\n",
       "   science           JWST         CALJWST     NIRSPEC/MSA    JWST F170LP;G235M          Infrared GS-MEDIUM-HST                    -- jw01180-o135_s09657_nirspec_f170lp-g235m 53.15372125 -27.78036944444443            image Eisenstein, Daniel J.           3 59972.18571851482 59972.63680924768 9322.298999999999  1660.0  5000.0 NIRCam-NIRSpec galaxy assembly survey - GOODS-S - part #1a 60338.58098364        1180           GTO              -- POLYGON 53.173231306 -27.818050097 53.173611204 -27.818050097 53.173611204 -27.818714517 53.173231306 -27.818714517 mast:JWST/product/jw01180-o135_s09657_nirspec_f170lp-g235m_cal.jpg mast:JWST/product/jw01180-o135_s09657_nirspec_f170lp-g235m_s2d.fits EXCLUSIVE_ACCESS  False     nan 120902629 248184140"
      ]
     },
     "execution_count": 30,
     "metadata": {},
     "output_type": "execute_result"
    }
   ],
   "source": [
    "test = all_spectra_with_data[all_spectra_with_data[\"target_name\"] == \"GS-MEDIUM-HST\"][0]\n",
    "test"
   ]
  },
  {
   "cell_type": "code",
   "execution_count": 31,
   "id": "46d78357",
   "metadata": {},
   "outputs": [
    {
     "data": {
      "text/html": [
       "<i>Row index=6200 masked=True</i>\n",
       "<table id=\"table140556980766560\">\n",
       "<thead><tr><th>obsID</th><th>obs_collection</th><th>dataproduct_type</th><th>obs_id</th><th>description</th><th>type</th><th>dataURI</th><th>productType</th><th>productGroupDescription</th><th>productSubGroupDescription</th><th>productDocumentationURL</th><th>project</th><th>prvversion</th><th>proposal_id</th><th>productFilename</th><th>size</th><th>parent_obsid</th><th>dataRights</th><th>calib_level</th></tr></thead>\n",
       "<thead><tr><th>str9</th><th>str4</th><th>str8</th><th>str40</th><th>str71</th><th>str1</th><th>str68</th><th>str9</th><th>str28</th><th>str8</th><th>str1</th><th>str7</th><th>str5</th><th>str4</th><th>str50</th><th>int64</th><th>str9</th><th>str16</th><th>int64</th></tr></thead>\n",
       "<tr><td>112312462</td><td>JWST</td><td>spectrum</td><td>jw01180135001_0310j_00003_nrs2</td><td>exposure/target (L2b/L3): 1D extracted spectrum</td><td>S</td><td>mast:JWST/product/jw01180135001_0310j_00003_nrs2_x1d.fits</td><td>SCIENCE</td><td>--</td><td>X1D</td><td>--</td><td>CALJWST</td><td>1.8.2</td><td>1180</td><td>jw01180135001_0310j_00003_nrs2_x1d.fits</td><td>31464000</td><td>120902629</td><td>EXCLUSIVE_ACCESS</td><td>2</td></tr>\n",
       "</table>"
      ],
      "text/plain": [
       "<Row index=6200 masked=True>\n",
       "  obsID   obs_collection dataproduct_type             obs_id                               description                   type                          dataURI                          productType productGroupDescription productSubGroupDescription productDocumentationURL project prvversion proposal_id             productFilename               size   parent_obsid    dataRights    calib_level\n",
       "   str9        str4            str8                   str40                                   str71                      str1                           str68                               str9             str28                     str8                      str1            str7     str5        str4                     str50                   int64       str9          str16          int64   \n",
       "--------- -------------- ---------------- ------------------------------ ----------------------------------------------- ---- --------------------------------------------------------- ----------- ----------------------- -------------------------- ----------------------- ------- ---------- ----------- --------------------------------------- -------- ------------ ---------------- -----------\n",
       "112312462           JWST         spectrum jw01180135001_0310j_00003_nrs2 exposure/target (L2b/L3): 1D extracted spectrum    S mast:JWST/product/jw01180135001_0310j_00003_nrs2_x1d.fits     SCIENCE                      --                        X1D                      -- CALJWST      1.8.2        1180 jw01180135001_0310j_00003_nrs2_x1d.fits 31464000    120902629 EXCLUSIVE_ACCESS           2"
      ]
     },
     "execution_count": 31,
     "metadata": {},
     "output_type": "execute_result"
    }
   ],
   "source": [
    "obv.get_product_list(test)[-1]"
   ]
  },
  {
   "cell_type": "code",
   "execution_count": 32,
   "id": "9530de89",
   "metadata": {},
   "outputs": [
    {
     "data": {
      "text/plain": [
       "'mast:JWST/product/jw01180135001_0310j_00003_nrs2_x1d.fits'"
      ]
     },
     "execution_count": 32,
     "metadata": {},
     "output_type": "execute_result"
    }
   ],
   "source": [
    "obv.get_product_list(test)[-1][\"dataURI\"]"
   ]
  },
  {
   "cell_type": "code",
   "execution_count": 33,
   "id": "bf2f7470",
   "metadata": {},
   "outputs": [
    {
     "data": {
      "text/plain": [
       "('ERROR',\n",
       " 'HTTPError: 401 Client Error: Unauthorized for url: https://mast.stsci.edu/api/v0.1/Download/file?uri=mast:JWST/product/jw01180135001_0310j_00003_nrs2_x1d.fits',\n",
       " 'https://mast.stsci.edu/api/v0.1/Download/file?uri=mast:JWST/product/jw01180135001_0310j_00003_nrs2_x1d.fits')"
      ]
     },
     "execution_count": 33,
     "metadata": {},
     "output_type": "execute_result"
    }
   ],
   "source": [
    "obv.download_file(obv.get_product_list(test)[-1][\"dataURI\"])"
   ]
  },
  {
   "cell_type": "code",
   "execution_count": 34,
   "id": "09399bcc",
   "metadata": {},
   "outputs": [
    {
     "name": "stdout",
     "output_type": "stream",
     "text": [
      "INFO: Found cached file /home/rjanish/physics/optical-ir-axion-decay/jw04426001001_04101_00010_nrs1_uncal.fits with expected size 209767680. [astroquery.query]\n"
     ]
    },
    {
     "data": {
      "text/plain": [
       "('COMPLETE', None, None)"
      ]
     },
     "execution_count": 34,
     "metadata": {},
     "output_type": "execute_result"
    }
   ],
   "source": [
    "obv.download_file(obv.get_product_list(GNZ11[1])[-1][\"dataURI\"])"
   ]
  },
  {
   "cell_type": "code",
   "execution_count": 35,
   "id": "dff1dece",
   "metadata": {},
   "outputs": [
    {
     "data": {
      "text/html": [
       "<div><i>Table length=34</i>\n",
       "<table id=\"table140556980776928\" class=\"table-striped table-bordered table-condensed\">\n",
       "<thead><tr><th>Column Name</th><th>Column Label</th><th>Data Type</th><th>Units</th><th>Description</th><th>Examples/Valid Values</th></tr></thead>\n",
       "<thead><tr><th>str21</th><th>str25</th><th>str7</th><th>str10</th><th>str72</th><th>str116</th></tr></thead>\n",
       "<tr><td>intentType</td><td>Observation Type</td><td>string</td><td></td><td>Whether observation is for science or calibration.</td><td>Valid values: science, calibration</td></tr>\n",
       "<tr><td>obs_collection</td><td>Mission</td><td>string</td><td></td><td>Collection</td><td>E.g. SWIFT, PS1, HST, IUE</td></tr>\n",
       "<tr><td>...</td><td>...</td><td>...</td><td>...</td><td>...</td><td>...</td></tr>\n",
       "<tr><td>dataURL</td><td>Data URL</td><td>string</td><td></td><td>Data URL</td><td></td></tr>\n",
       "<tr><td>proposal_type</td><td>Proposal Type</td><td>string</td><td></td><td>Type of telescope proposal</td><td>Eg. 3PI, GO, GO/DD, HLA, GII, AIS</td></tr>\n",
       "<tr><td>sequence_number</td><td>Sequence Number</td><td>integer</td><td></td><td>Sequence number, e.g. Kepler quarter or TESS sector</td><td></td></tr>\n",
       "</table></div>"
      ],
      "text/plain": [
       "<Table length=34>\n",
       "  Column Name     Column Label   ...       Examples/Valid Values       \n",
       "     str21           str25       ...               str116              \n",
       "--------------- ---------------- ... ----------------------------------\n",
       "     intentType Observation Type ... Valid values: science, calibration\n",
       " obs_collection          Mission ...          E.g. SWIFT, PS1, HST, IUE\n",
       "            ...              ... ...                                ...\n",
       "        dataURL         Data URL ...                                   \n",
       "  proposal_type    Proposal Type ...  Eg. 3PI, GO, GO/DD, HLA, GII, AIS\n",
       "sequence_number  Sequence Number ...                                   "
      ]
     },
     "execution_count": 35,
     "metadata": {},
     "output_type": "execute_result"
    }
   ],
   "source": [
    "obv.get_metadata(\"observations\")"
   ]
  },
  {
   "cell_type": "code",
   "execution_count": 36,
   "id": "1d5a541e",
   "metadata": {},
   "outputs": [
    {
     "data": {
      "text/html": [
       "<div><i>Table masked=True length=4</i>\n",
       "<table id=\"table140556980775440\" class=\"table-striped table-bordered table-condensed\">\n",
       "<thead><tr><th>obsID</th><th>obs_collection</th><th>dataproduct_type</th><th>obs_id</th><th>description</th><th>type</th><th>dataURI</th><th>productType</th><th>productGroupDescription</th><th>productSubGroupDescription</th><th>productDocumentationURL</th><th>project</th><th>prvversion</th><th>proposal_id</th><th>productFilename</th><th>size</th><th>parent_obsid</th><th>dataRights</th><th>calib_level</th></tr></thead>\n",
       "<thead><tr><th>str9</th><th>str4</th><th>str5</th><th>str38</th><th>str64</th><th>str1</th><th>str70</th><th>str9</th><th>str28</th><th>str9</th><th>str1</th><th>str7</th><th>str6</th><th>str4</th><th>str52</th><th>int64</th><th>str9</th><th>str6</th><th>int64</th></tr></thead>\n",
       "<tr><td>139257240</td><td>JWST</td><td>cube</td><td>jw04426-o001_t001_nirspec_g235m-f170lp</td><td>source/target (L3) : association generator</td><td>D</td><td>mast:JWST/product/jw04426-o001_20230524t125457_spec3_00002_asn.json</td><td>INFO</td><td>Minimum Recommended Products</td><td>ASN</td><td>--</td><td>CALJWST</td><td>1.10.1</td><td>4426</td><td>jw04426-o001_20230524t125457_spec3_00002_asn.json</td><td>4013</td><td>139257240</td><td>PUBLIC</td><td>3</td></tr>\n",
       "<tr><td>139257240</td><td>JWST</td><td>cube</td><td>jw04426-o001_t001_nirspec_g235m-f170lp</td><td>source/target (L3) : association pool</td><td>D</td><td>mast:JWST/product/jw04426_20230524t125457_pool.csv</td><td>INFO</td><td>Minimum Recommended Products</td><td>POOL</td><td>--</td><td>CALJWST</td><td>1.10.1</td><td>4426</td><td>jw04426_20230524t125457_pool.csv</td><td>17655</td><td>139257240</td><td>PUBLIC</td><td>3</td></tr>\n",
       "<tr><td>139257240</td><td>JWST</td><td>cube</td><td>jw04426-o001_t001_nirspec_g235m-f170lp</td><td>exposure/target (L2b/L3): 3D image of spectrum</td><td>D</td><td>mast:JWST/product/jw04426-o001_t001_nirspec_g235m-f170lp_s3d.fits</td><td>SCIENCE</td><td>Minimum Recommended Products</td><td>S3D</td><td>--</td><td>CALJWST</td><td>1.10.1</td><td>4426</td><td>jw04426-o001_t001_nirspec_g235m-f170lp_s3d.fits</td><td>44988480</td><td>139257240</td><td>PUBLIC</td><td>3</td></tr>\n",
       "<tr><td>139257240</td><td>JWST</td><td>cube</td><td>jw04426-o001_t001_nirspec_g235m-f170lp</td><td>exposure/target (L2b/L3): 1D extracted spectrum</td><td>D</td><td>mast:JWST/product/jw04426-o001_t001_nirspec_g235m-f170lp_x1d.fits</td><td>SCIENCE</td><td>Minimum Recommended Products</td><td>X1D</td><td>--</td><td>CALJWST</td><td>1.10.1</td><td>4426</td><td>jw04426-o001_t001_nirspec_g235m-f170lp_x1d.fits</td><td>483840</td><td>139257240</td><td>PUBLIC</td><td>3</td></tr>\n",
       "</table></div>"
      ],
      "text/plain": [
       "<Table masked=True length=4>\n",
       "  obsID   obs_collection dataproduct_type ... parent_obsid dataRights calib_level\n",
       "   str9        str4            str5       ...     str9        str6       int64   \n",
       "--------- -------------- ---------------- ... ------------ ---------- -----------\n",
       "139257240           JWST             cube ...    139257240     PUBLIC           3\n",
       "139257240           JWST             cube ...    139257240     PUBLIC           3\n",
       "139257240           JWST             cube ...    139257240     PUBLIC           3\n",
       "139257240           JWST             cube ...    139257240     PUBLIC           3"
      ]
     },
     "execution_count": 36,
     "metadata": {},
     "output_type": "execute_result"
    }
   ],
   "source": [
    "obv.filter_products(obv.get_product_list(GNZ11[0]), productGroupDescription=\"Minimum Recommended Products\")"
   ]
  },
  {
   "cell_type": "code",
   "execution_count": 37,
   "id": "028eb662",
   "metadata": {},
   "outputs": [],
   "source": [
    "min_rec = obv.filter_products(obv.get_product_list(GNZ11[0:2]), productGroupDescription=\"Minimum Recommended Products\")"
   ]
  },
  {
   "cell_type": "code",
   "execution_count": 38,
   "id": "e8f6be01",
   "metadata": {},
   "outputs": [
    {
     "name": "stdout",
     "output_type": "stream",
     "text": [
      "INFO: 1 of 8 products were duplicates. Only downloading 7 unique product(s). [astroquery.mast.observations]\n",
      "Downloading URL https://mast.stsci.edu/api/v0.1/Download/file?uri=mast:JWST/product/jw04426-o001_20230524t125457_spec3_00001_asn.json to ~/progs/physics/mastDownload/JWST/jw04426-o001_t001_nirspec_g140m-f100lp/jw04426-o001_20230524t125457_spec3_00001_asn.json ... [Done]\n",
      "Downloading URL https://mast.stsci.edu/api/v0.1/Download/file?uri=mast:JWST/product/jw04426-o001_20230524t125457_spec3_00002_asn.json to ~/progs/physics/mastDownload/JWST/jw04426-o001_t001_nirspec_g235m-f170lp/jw04426-o001_20230524t125457_spec3_00002_asn.json ... [Done]\n",
      "Downloading URL https://mast.stsci.edu/api/v0.1/Download/file?uri=mast:JWST/product/jw04426-o001_t001_nirspec_g140m-f100lp_s3d.fits to ~/progs/physics/mastDownload/JWST/jw04426-o001_t001_nirspec_g140m-f100lp/jw04426-o001_t001_nirspec_g140m-f100lp_s3d.fits ... [Done]\n",
      "Downloading URL https://mast.stsci.edu/api/v0.1/Download/file?uri=mast:JWST/product/jw04426-o001_t001_nirspec_g140m-f100lp_x1d.fits to ~/progs/physics/mastDownload/JWST/jw04426-o001_t001_nirspec_g140m-f100lp/jw04426-o001_t001_nirspec_g140m-f100lp_x1d.fits ... [Done]\n",
      "Downloading URL https://mast.stsci.edu/api/v0.1/Download/file?uri=mast:JWST/product/jw04426-o001_t001_nirspec_g235m-f170lp_s3d.fits to ~/progs/physics/mastDownload/JWST/jw04426-o001_t001_nirspec_g235m-f170lp/jw04426-o001_t001_nirspec_g235m-f170lp_s3d.fits ... [Done]\n",
      "Downloading URL https://mast.stsci.edu/api/v0.1/Download/file?uri=mast:JWST/product/jw04426-o001_t001_nirspec_g235m-f170lp_x1d.fits to ~/progs/physics/mastDownload/JWST/jw04426-o001_t001_nirspec_g235m-f170lp/jw04426-o001_t001_nirspec_g235m-f170lp_x1d.fits ... [Done]\n",
      "Downloading URL https://mast.stsci.edu/api/v0.1/Download/file?uri=mast:JWST/product/jw04426_20230524t125457_pool.csv to ~/progs/physics/mastDownload/JWST/jw04426-o001_t001_nirspec_g140m-f100lp/jw04426_20230524t125457_pool.csv ... [Done]\n"
     ]
    }
   ],
   "source": [
    "out = obv.download_products(min_rec, download_dir=\"~/progs/physics\")"
   ]
  },
  {
   "cell_type": "code",
   "execution_count": 39,
   "id": "f2c4b8d6",
   "metadata": {},
   "outputs": [
    {
     "data": {
      "text/html": [
       "<div><i>Table length=7</i>\n",
       "<table id=\"table140556980771744\" class=\"table-striped table-bordered table-condensed\">\n",
       "<thead><tr><th>Local Path</th><th>Status</th><th>Message</th><th>URL</th></tr></thead>\n",
       "<thead><tr><th>str122</th><th>str8</th><th>object</th><th>object</th></tr></thead>\n",
       "<tr><td>~/progs/physics/mastDownload/JWST/jw04426-o001_t001_nirspec_g140m-f100lp/jw04426-o001_20230524t125457_spec3_00001_asn.json</td><td>COMPLETE</td><td>None</td><td>None</td></tr>\n",
       "<tr><td>~/progs/physics/mastDownload/JWST/jw04426-o001_t001_nirspec_g235m-f170lp/jw04426-o001_20230524t125457_spec3_00002_asn.json</td><td>COMPLETE</td><td>None</td><td>None</td></tr>\n",
       "<tr><td>~/progs/physics/mastDownload/JWST/jw04426-o001_t001_nirspec_g140m-f100lp/jw04426-o001_t001_nirspec_g140m-f100lp_s3d.fits</td><td>COMPLETE</td><td>None</td><td>None</td></tr>\n",
       "<tr><td>~/progs/physics/mastDownload/JWST/jw04426-o001_t001_nirspec_g140m-f100lp/jw04426-o001_t001_nirspec_g140m-f100lp_x1d.fits</td><td>COMPLETE</td><td>None</td><td>None</td></tr>\n",
       "<tr><td>~/progs/physics/mastDownload/JWST/jw04426-o001_t001_nirspec_g235m-f170lp/jw04426-o001_t001_nirspec_g235m-f170lp_s3d.fits</td><td>COMPLETE</td><td>None</td><td>None</td></tr>\n",
       "<tr><td>~/progs/physics/mastDownload/JWST/jw04426-o001_t001_nirspec_g235m-f170lp/jw04426-o001_t001_nirspec_g235m-f170lp_x1d.fits</td><td>COMPLETE</td><td>None</td><td>None</td></tr>\n",
       "<tr><td>~/progs/physics/mastDownload/JWST/jw04426-o001_t001_nirspec_g140m-f100lp/jw04426_20230524t125457_pool.csv</td><td>COMPLETE</td><td>None</td><td>None</td></tr>\n",
       "</table></div>"
      ],
      "text/plain": [
       "<Table length=7>\n",
       "                                                        Local Path                                                         ...\n",
       "                                                          str122                                                           ...\n",
       "-------------------------------------------------------------------------------------------------------------------------- ...\n",
       "~/progs/physics/mastDownload/JWST/jw04426-o001_t001_nirspec_g140m-f100lp/jw04426-o001_20230524t125457_spec3_00001_asn.json ...\n",
       "~/progs/physics/mastDownload/JWST/jw04426-o001_t001_nirspec_g235m-f170lp/jw04426-o001_20230524t125457_spec3_00002_asn.json ...\n",
       "  ~/progs/physics/mastDownload/JWST/jw04426-o001_t001_nirspec_g140m-f100lp/jw04426-o001_t001_nirspec_g140m-f100lp_s3d.fits ...\n",
       "  ~/progs/physics/mastDownload/JWST/jw04426-o001_t001_nirspec_g140m-f100lp/jw04426-o001_t001_nirspec_g140m-f100lp_x1d.fits ...\n",
       "  ~/progs/physics/mastDownload/JWST/jw04426-o001_t001_nirspec_g235m-f170lp/jw04426-o001_t001_nirspec_g235m-f170lp_s3d.fits ...\n",
       "  ~/progs/physics/mastDownload/JWST/jw04426-o001_t001_nirspec_g235m-f170lp/jw04426-o001_t001_nirspec_g235m-f170lp_x1d.fits ...\n",
       "                 ~/progs/physics/mastDownload/JWST/jw04426-o001_t001_nirspec_g140m-f100lp/jw04426_20230524t125457_pool.csv ..."
      ]
     },
     "execution_count": 39,
     "metadata": {},
     "output_type": "execute_result"
    }
   ],
   "source": [
    "out"
   ]
  },
  {
   "cell_type": "code",
   "execution_count": 40,
   "id": "477dc623",
   "metadata": {},
   "outputs": [
    {
     "data": {
      "text/html": [
       "&lt;MaskedColumn name=&apos;proposal_id&apos; dtype=&apos;str4&apos; length=47&gt;\n",
       "<table>\n",
       "<tr><td>1022</td></tr>\n",
       "<tr><td>1118</td></tr>\n",
       "<tr><td>1120</td></tr>\n",
       "<tr><td>1125</td></tr>\n",
       "<tr><td>1128</td></tr>\n",
       "<tr><td>...</td></tr>\n",
       "<tr><td>2729</td></tr>\n",
       "<tr><td>2732</td></tr>\n",
       "<tr><td>2747</td></tr>\n",
       "<tr><td>4426</td></tr>\n",
       "</table>"
      ],
      "text/plain": [
       "<MaskedColumn name='proposal_id' dtype='str4' length=47>\n",
       "1022\n",
       "1118\n",
       "1120\n",
       "1125\n",
       "1128\n",
       " ...\n",
       "2729\n",
       "2732\n",
       "2747\n",
       "4426"
      ]
     },
     "execution_count": 40,
     "metadata": {},
     "output_type": "execute_result"
    }
   ],
   "source": [
    "np.unique(with_data[\"proposal_id\"])"
   ]
  },
  {
   "cell_type": "code",
   "execution_count": null,
   "id": "c18bf5a1",
   "metadata": {},
   "outputs": [],
   "source": []
  }
 ],
 "metadata": {
  "kernelspec": {
   "display_name": "Python 3 (ipykernel)",
   "language": "python",
   "name": "python3"
  },
  "language_info": {
   "codemirror_mode": {
    "name": "ipython",
    "version": 3
   },
   "file_extension": ".py",
   "mimetype": "text/x-python",
   "name": "python",
   "nbconvert_exporter": "python",
   "pygments_lexer": "ipython3",
   "version": "3.10.6"
  }
 },
 "nbformat": 4,
 "nbformat_minor": 5
}
