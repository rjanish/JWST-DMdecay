{
 "cells": [
  {
   "cell_type": "code",
   "execution_count": 1,
   "metadata": {},
   "outputs": [],
   "source": [
    "import multiprocessing as mp\n",
    "from functools import partial\n",
    "\n",
    "import numpy as np\n",
    "import matplotlib.pyplot as plt\n",
    "import pandas as pd\n",
    "from tqdm import tqdm\n",
    "\n",
    "import DMdecay as dmd\n",
    "import JWSTutils as jwst\n",
    "from gnz11_split import partition_gnz11"
   ]
  },
  {
   "cell_type": "code",
   "execution_count": 2,
   "metadata": {},
   "outputs": [],
   "source": [
    "run_dir = \"gnz11_split\"\n",
    "prev_config_path = F\"{run_dir}/gnz11_split.toml\"\n",
    "skipping = 1\n",
    "\n",
    "dofs = [5, 15]"
   ]
  },
  {
   "cell_type": "code",
   "execution_count": 3,
   "metadata": {},
   "outputs": [
    {
     "name": "stdout",
     "output_type": "stream",
     "text": [
      "parsing gnz11_split/gnz11_split.toml\n",
      "processing 2 datafiles...\n"
     ]
    }
   ],
   "source": [
    "prev_configs = dmd.prep.parse_configs(prev_config_path)\n",
    "run_name = prev_configs[\"run\"][\"name\"]\n",
    "\n",
    "data = jwst.process_datafiles(prev_configs[\"run\"][\"paths\"], \n",
    "                                prev_configs[\"system\"][\"res_path\"])\n",
    "data = partition_gnz11(data, prev_configs[\"run\"][\"lambda_min\"],\n",
    "                        prev_configs[\"run\"][\"lambda_split\"])\n",
    "for spec in data:\n",
    "    dmd.prep.doppler_correction(spec, prev_configs[\"halo\"])\n",
    "    dmd.prep.add_Dfactor(spec, prev_configs[\"halo\"])"
   ]
  },
  {
   "cell_type": "code",
   "execution_count": 4,
   "metadata": {},
   "outputs": [],
   "source": [
    "rawlimits = np.loadtxt(\n",
    "    F\"{run_name}/{prev_configs['run']['rawlimits_filename']}\")\n",
    "valid = np.isfinite(rawlimits[:, 1])\n",
    "masses_to_test = rawlimits[valid, :][::skipping, 0]\n",
    "lams_to_test = dmd.conversions.mass_to_wavelength(masses_to_test)"
   ]
  },
  {
   "cell_type": "code",
   "execution_count": 5,
   "metadata": {},
   "outputs": [],
   "source": [
    "def get_limit(num_knots, data, prev_configs, lam_test):\n",
    "    prev_configs[\"analysis\"][\"num_knots\"] = num_knots\n",
    "    raw_out = dmd.linesearch.find_raw_limit(prev_configs, data, lam_test)\n",
    "    [[lmin, lmax], \n",
    "    spec_list, \n",
    "    knots, \n",
    "    error_scale_factors,\n",
    "    [limit_rate, limit_knots], \n",
    "    [best_rate, best_knots],\n",
    "    delta_chisq,\n",
    "    lam_list_msk, \n",
    "    error_list_msk, \n",
    "    lam0_tmp,\n",
    "    sky_list, \n",
    "    lam_list, \n",
    "    error_list, \n",
    "    fixed_list, \n",
    "    spec_list, \n",
    "    res_list, \n",
    "    mask_list, \n",
    "    sky_list_msk] = raw_out\n",
    "    limit_decayrate = dmd.conversions.fluxscale_to_invsec(limit_rate)   \n",
    "    mass_test = dmd.conversions.wavelength_to_mass(lam_test)\n",
    "    limit_g = dmd.conversions.decayrate_to_axion_g(limit_decayrate,\n",
    "                                                    mass_test) \n",
    "    return limit_g"
   ]
  },
  {
   "cell_type": "code",
   "execution_count": 6,
   "metadata": {},
   "outputs": [
    {
     "name": "stdout",
     "output_type": "stream",
     "text": [
      "Fitting with 5 knots\n"
     ]
    },
    {
     "name": "stderr",
     "output_type": "stream",
     "text": [
      "100%|██████████| 905/905 [00:42<00:00, 21.40it/s]"
     ]
    },
    {
     "name": "stdout",
     "output_type": "stream",
     "text": [
      "Fitting with 15 knots\n"
     ]
    },
    {
     "name": "stderr",
     "output_type": "stream",
     "text": [
      "\n",
      "100%|██████████| 905/905 [03:32<00:00,  4.26it/s]\n"
     ]
    }
   ],
   "source": [
    "limits_dict = {n:np.full(masses_to_test.size, np.nan) for n in dofs}\n",
    "for i, num_knots in enumerate(dofs):\n",
    "    print(F\"Fitting with {num_knots} knots\")\n",
    "    wrapper = partial(get_limit, num_knots, data, prev_configs)\n",
    "    with mp.Pool(mp.cpu_count() - 1) as pool:\n",
    "        results_iter = tqdm(pool.imap(wrapper, lams_to_test), \n",
    "                        total=lams_to_test.size)\n",
    "        limits_dict[num_knots] = np.asarray(list(results_iter))"
   ]
  },
  {
   "cell_type": "code",
   "execution_count": 22,
   "metadata": {},
   "outputs": [],
   "source": [
    "\n",
    "limits_df = pd.DataFrame(limits_dict)\n",
    "limits_df[\"mass\"] = masses_to_test\n",
    "avg = (limits_df[5] + limits_df[15])*0.5\n",
    "limits_df[\"frac_diff\"] = (limits_df[5] - limits_df[15])/avg\n",
    "\n",
    "limits_df[\"ratio\"] = limits_df[5]/limits_df[15]\n",
    "limits_df[\"log_ratio\"] = np.log10(limits_df[\"ratio\"])\n",
    "limits_df[\"lam\"] = lams_to_test"
   ]
  },
  {
   "cell_type": "code",
   "execution_count": 13,
   "metadata": {},
   "outputs": [],
   "source": [
    "\n",
    "limits_df.to_csv(F\"{run_name}/continuum-compare-limits.csv\", index=False)"
   ]
  },
  {
   "cell_type": "code",
   "execution_count": 9,
   "metadata": {},
   "outputs": [
    {
     "data": {
      "image/png": "[encoded data removed]",
      "text/plain": [
       "<Figure size 720x576 with 1 Axes>"
      ]
     },
     "metadata": {
      "needs_background": "light"
     },
     "output_type": "display_data"
    }
   ],
   "source": [
    "ax = limits_df[\"frac_diff\"].plot(kind=\"density\",\n",
    "                                 figsize=(10, 8))\n",
    "ax.hist(limits_df[\"frac_diff\"], bins=50, density=True,\n",
    "        alpha=0.7, color='black', histtype=\"step\")\n",
    "ax.set_xlabel(\"Fractional difference between limits\")\n",
    "ax.axvline(0, color=\"red\", linestyle=\"--\", alpha=0.7)\n",
    "plt.savefig(F\"{run_name}/continuum-compare-limits.png\")"
   ]
  },
  {
   "cell_type": "code",
   "execution_count": 14,
   "metadata": {},
   "outputs": [
    {
     "data": {
      "text/plain": [
       "0.100    0.014745\n",
       "0.250    0.042335\n",
       "0.500    0.088874\n",
       "0.750    0.161792\n",
       "0.900    0.227352\n",
       "0.990    0.543656\n",
       "0.999    6.438526\n",
       "Name: log_ratio, dtype: float64"
      ]
     },
     "execution_count": 14,
     "metadata": {},
     "output_type": "execute_result"
    }
   ],
   "source": [
    "np.abs(limits_df[\"log_ratio\"]).quantile([0.1, 0.25, 0.5, 0.75, 0.9, 0.99, 0.999])"
   ]
  },
  {
   "cell_type": "code",
   "execution_count": 19,
   "metadata": {},
   "outputs": [],
   "source": [
    "select_O1 = np.abs(limits_df[\"log_ratio\"]) < 1\n",
    "O1_logratios = limits_df[select_O1][\"log_ratio\"]"
   ]
  },
  {
   "cell_type": "code",
   "execution_count": 20,
   "metadata": {},
   "outputs": [
    {
     "data": {
      "image/png": "[encoded data removed]",
      "text/plain": [
       "<Figure size 720x576 with 1 Axes>"
      ]
     },
     "metadata": {
      "needs_background": "light"
     },
     "output_type": "display_data"
    }
   ],
   "source": [
    "ax_ratio = O1_logratios.plot(kind=\"density\",\n",
    "                                 figsize=(10, 8))\n",
    "ax_ratio.hist(O1_logratios, bins=30, density=True,\n",
    "        alpha=0.7, color='black', histtype=\"step\")\n",
    "ax_ratio.set_xlabel(\"ratio between limits\")\n",
    "ax_ratio.axvline(0, color=\"red\", linestyle=\"--\", alpha=0.7)\n",
    "plt.savefig(F\"{run_name}/continuum-compare-limits-ratio.png\")"
   ]
  },
  {
   "cell_type": "code",
   "execution_count": 24,
   "metadata": {},
   "outputs": [
    {
     "name": "stdout",
     "output_type": "stream",
     "text": [
      "number of extreme ratio: 5\n",
      "     frac extreme ratio: 0.994475138121547\n"
     ]
    },
    {
     "data": {
      "text/html": [
       "<div>\n",
       "<style scoped>\n",
       "    .dataframe tbody tr th:only-of-type {\n",
       "        vertical-align: middle;\n",
       "    }\n",
       "\n",
       "    .dataframe tbody tr th {\n",
       "        vertical-align: top;\n",
       "    }\n",
       "\n",
       "    .dataframe thead th {\n",
       "        text-align: right;\n",
       "    }\n",
       "</style>\n",
       "<table border=\"1\" class=\"dataframe\">\n",
       "  <thead>\n",
       "    <tr style=\"text-align: right;\">\n",
       "      <th></th>\n",
       "      <th>lam</th>\n",
       "      <th>5</th>\n",
       "      <th>15</th>\n",
       "      <th>ratio</th>\n",
       "    </tr>\n",
       "  </thead>\n",
       "  <tbody>\n",
       "    <tr>\n",
       "      <th>93</th>\n",
       "      <td>1.144249</td>\n",
       "      <td>1.583057e-11</td>\n",
       "      <td>1.027056e-19</td>\n",
       "      <td>1.541353e+08</td>\n",
       "    </tr>\n",
       "    <tr>\n",
       "      <th>397</th>\n",
       "      <td>1.735015</td>\n",
       "      <td>1.612008e-11</td>\n",
       "      <td>9.007739e-18</td>\n",
       "      <td>1.789581e+06</td>\n",
       "    </tr>\n",
       "    <tr>\n",
       "      <th>402</th>\n",
       "      <td>1.746048</td>\n",
       "      <td>2.390545e-11</td>\n",
       "      <td>1.569768e-17</td>\n",
       "      <td>1.522865e+06</td>\n",
       "    </tr>\n",
       "    <tr>\n",
       "      <th>519</th>\n",
       "      <td>2.019095</td>\n",
       "      <td>1.698105e-11</td>\n",
       "      <td>1.372384e-17</td>\n",
       "      <td>1.237340e+06</td>\n",
       "    </tr>\n",
       "    <tr>\n",
       "      <th>676</th>\n",
       "      <td>2.435817</td>\n",
       "      <td>3.443288e-11</td>\n",
       "      <td>8.318613e-17</td>\n",
       "      <td>4.139257e+05</td>\n",
       "    </tr>\n",
       "  </tbody>\n",
       "</table>\n",
       "</div>"
      ],
      "text/plain": [
       "          lam             5            15         ratio\n",
       "93   1.144249  1.583057e-11  1.027056e-19  1.541353e+08\n",
       "397  1.735015  1.612008e-11  9.007739e-18  1.789581e+06\n",
       "402  1.746048  2.390545e-11  1.569768e-17  1.522865e+06\n",
       "519  2.019095  1.698105e-11  1.372384e-17  1.237340e+06\n",
       "676  2.435817  3.443288e-11  8.318613e-17  4.139257e+05"
      ]
     },
     "execution_count": 24,
     "metadata": {},
     "output_type": "execute_result"
    }
   ],
   "source": [
    "print(F\"number of extreme ratio: {np.sum(~select_O1)}\\n\"\n",
    "      F\"     frac extreme ratio: {np.sum(select_O1)/select_O1.size}\")\n",
    "limits_df[~select_O1][[\"lam\", 5, 15, \"ratio\"]]"
   ]
  },
  {
   "cell_type": "code",
   "execution_count": 27,
   "metadata": {},
   "outputs": [
    {
     "data": {
      "text/html": [
       "<div>\n",
       "<style scoped>\n",
       "    .dataframe tbody tr th:only-of-type {\n",
       "        vertical-align: middle;\n",
       "    }\n",
       "\n",
       "    .dataframe tbody tr th {\n",
       "        vertical-align: top;\n",
       "    }\n",
       "\n",
       "    .dataframe thead th {\n",
       "        text-align: right;\n",
       "    }\n",
       "</style>\n",
       "<table border=\"1\" class=\"dataframe\">\n",
       "  <thead>\n",
       "    <tr style=\"text-align: right;\">\n",
       "      <th></th>\n",
       "      <th>5</th>\n",
       "      <th>15</th>\n",
       "      <th>mass</th>\n",
       "      <th>frac_diff</th>\n",
       "      <th>ratio</th>\n",
       "      <th>log_ratio</th>\n",
       "      <th>lam</th>\n",
       "    </tr>\n",
       "  </thead>\n",
       "  <tbody>\n",
       "    <tr>\n",
       "      <th>58</th>\n",
       "      <td>2.387505e-11</td>\n",
       "      <td>5.288295e-12</td>\n",
       "      <td>2.284762</td>\n",
       "      <td>1.274665</td>\n",
       "      <td>4.514697</td>\n",
       "      <td>0.654629</td>\n",
       "      <td>1.085312</td>\n",
       "    </tr>\n",
       "    <tr>\n",
       "      <th>13</th>\n",
       "      <td>2.299332e-11</td>\n",
       "      <td>5.115729e-12</td>\n",
       "      <td>2.450887</td>\n",
       "      <td>1.272017</td>\n",
       "      <td>4.494632</td>\n",
       "      <td>0.652694</td>\n",
       "      <td>1.011748</td>\n",
       "    </tr>\n",
       "    <tr>\n",
       "      <th>40</th>\n",
       "      <td>2.099188e-11</td>\n",
       "      <td>5.745449e-12</td>\n",
       "      <td>2.349081</td>\n",
       "      <td>1.140460</td>\n",
       "      <td>3.653653</td>\n",
       "      <td>0.562727</td>\n",
       "      <td>1.055596</td>\n",
       "    </tr>\n",
       "    <tr>\n",
       "      <th>682</th>\n",
       "      <td>3.603206e-11</td>\n",
       "      <td>1.005684e-11</td>\n",
       "      <td>1.010868</td>\n",
       "      <td>1.127179</td>\n",
       "      <td>3.582842</td>\n",
       "      <td>0.554228</td>\n",
       "      <td>2.453021</td>\n",
       "    </tr>\n",
       "    <tr>\n",
       "      <th>410</th>\n",
       "      <td>2.212963e-11</td>\n",
       "      <td>6.311601e-12</td>\n",
       "      <td>1.405870</td>\n",
       "      <td>1.112331</td>\n",
       "      <td>3.506183</td>\n",
       "      <td>0.544835</td>\n",
       "      <td>1.763804</td>\n",
       "    </tr>\n",
       "    <tr>\n",
       "      <th>16</th>\n",
       "      <td>2.825177e-11</td>\n",
       "      <td>8.623240e-12</td>\n",
       "      <td>2.439242</td>\n",
       "      <td>1.064598</td>\n",
       "      <td>3.276236</td>\n",
       "      <td>0.515375</td>\n",
       "      <td>1.016578</td>\n",
       "    </tr>\n",
       "    <tr>\n",
       "      <th>446</th>\n",
       "      <td>2.555208e-11</td>\n",
       "      <td>8.210629e-12</td>\n",
       "      <td>1.343769</td>\n",
       "      <td>1.027255</td>\n",
       "      <td>3.112074</td>\n",
       "      <td>0.493050</td>\n",
       "      <td>1.845317</td>\n",
       "    </tr>\n",
       "    <tr>\n",
       "      <th>904</th>\n",
       "      <td>2.376431e-11</td>\n",
       "      <td>6.838837e-11</td>\n",
       "      <td>0.783089</td>\n",
       "      <td>-0.968481</td>\n",
       "      <td>0.347491</td>\n",
       "      <td>-0.459057</td>\n",
       "      <td>3.166536</td>\n",
       "    </tr>\n",
       "    <tr>\n",
       "      <th>457</th>\n",
       "      <td>1.392542e-11</td>\n",
       "      <td>3.932298e-11</td>\n",
       "      <td>1.325493</td>\n",
       "      <td>-0.953928</td>\n",
       "      <td>0.354129</td>\n",
       "      <td>-0.450838</td>\n",
       "      <td>1.870761</td>\n",
       "    </tr>\n",
       "    <tr>\n",
       "      <th>607</th>\n",
       "      <td>3.181400e-11</td>\n",
       "      <td>1.144491e-11</td>\n",
       "      <td>1.104550</td>\n",
       "      <td>0.941729</td>\n",
       "      <td>2.779751</td>\n",
       "      <td>0.444006</td>\n",
       "      <td>2.244968</td>\n",
       "    </tr>\n",
       "    <tr>\n",
       "      <th>15</th>\n",
       "      <td>3.033620e-11</td>\n",
       "      <td>1.265210e-11</td>\n",
       "      <td>2.443114</td>\n",
       "      <td>0.822740</td>\n",
       "      <td>2.397721</td>\n",
       "      <td>0.379799</td>\n",
       "      <td>1.014967</td>\n",
       "    </tr>\n",
       "    <tr>\n",
       "      <th>390</th>\n",
       "      <td>4.004765e-11</td>\n",
       "      <td>1.715706e-11</td>\n",
       "      <td>1.441967</td>\n",
       "      <td>0.800305</td>\n",
       "      <td>2.334180</td>\n",
       "      <td>0.368134</td>\n",
       "      <td>1.719651</td>\n",
       "    </tr>\n",
       "    <tr>\n",
       "      <th>456</th>\n",
       "      <td>1.687321e-11</td>\n",
       "      <td>3.906273e-11</td>\n",
       "      <td>1.327141</td>\n",
       "      <td>-0.793390</td>\n",
       "      <td>0.431952</td>\n",
       "      <td>-0.364565</td>\n",
       "      <td>1.868437</td>\n",
       "    </tr>\n",
       "    <tr>\n",
       "      <th>67</th>\n",
       "      <td>1.372519e-11</td>\n",
       "      <td>3.159573e-11</td>\n",
       "      <td>2.253600</td>\n",
       "      <td>-0.788622</td>\n",
       "      <td>0.434400</td>\n",
       "      <td>-0.362110</td>\n",
       "      <td>1.100320</td>\n",
       "    </tr>\n",
       "    <tr>\n",
       "      <th>717</th>\n",
       "      <td>1.763437e-11</td>\n",
       "      <td>3.921206e-11</td>\n",
       "      <td>0.970367</td>\n",
       "      <td>-0.759157</td>\n",
       "      <td>0.449718</td>\n",
       "      <td>-0.347060</td>\n",
       "      <td>2.555405</td>\n",
       "    </tr>\n",
       "  </tbody>\n",
       "</table>\n",
       "</div>"
      ],
      "text/plain": [
       "                5            15      mass  frac_diff     ratio  log_ratio  \\\n",
       "58   2.387505e-11  5.288295e-12  2.284762   1.274665  4.514697   0.654629   \n",
       "13   2.299332e-11  5.115729e-12  2.450887   1.272017  4.494632   0.652694   \n",
       "40   2.099188e-11  5.745449e-12  2.349081   1.140460  3.653653   0.562727   \n",
       "682  3.603206e-11  1.005684e-11  1.010868   1.127179  3.582842   0.554228   \n",
       "410  2.212963e-11  6.311601e-12  1.405870   1.112331  3.506183   0.544835   \n",
       "16   2.825177e-11  8.623240e-12  2.439242   1.064598  3.276236   0.515375   \n",
       "446  2.555208e-11  8.210629e-12  1.343769   1.027255  3.112074   0.493050   \n",
       "904  2.376431e-11  6.838837e-11  0.783089  -0.968481  0.347491  -0.459057   \n",
       "457  1.392542e-11  3.932298e-11  1.325493  -0.953928  0.354129  -0.450838   \n",
       "607  3.181400e-11  1.144491e-11  1.104550   0.941729  2.779751   0.444006   \n",
       "15   3.033620e-11  1.265210e-11  2.443114   0.822740  2.397721   0.379799   \n",
       "390  4.004765e-11  1.715706e-11  1.441967   0.800305  2.334180   0.368134   \n",
       "456  1.687321e-11  3.906273e-11  1.327141  -0.793390  0.431952  -0.364565   \n",
       "67   1.372519e-11  3.159573e-11  2.253600  -0.788622  0.434400  -0.362110   \n",
       "717  1.763437e-11  3.921206e-11  0.970367  -0.759157  0.449718  -0.347060   \n",
       "\n",
       "          lam  \n",
       "58   1.085312  \n",
       "13   1.011748  \n",
       "40   1.055596  \n",
       "682  2.453021  \n",
       "410  1.763804  \n",
       "16   1.016578  \n",
       "446  1.845317  \n",
       "904  3.166536  \n",
       "457  1.870761  \n",
       "607  2.244968  \n",
       "15   1.014967  \n",
       "390  1.719651  \n",
       "456  1.868437  \n",
       "67   1.100320  \n",
       "717  2.555405  "
      ]
     },
     "execution_count": 27,
     "metadata": {},
     "output_type": "execute_result"
    }
   ],
   "source": [
    "limits_df[select_O1].sort_values(\"log_ratio\", key=np.abs, ascending=False).head(15)"
   ]
  },
  {
   "cell_type": "code",
   "execution_count": null,
   "metadata": {},
   "outputs": [],
   "source": []
  }
 ],
 "metadata": {
  "kernelspec": {
   "display_name": "Python 3",
   "language": "python",
   "name": "python3"
  },
  "language_info": {
   "codemirror_mode": {
    "name": "ipython",
    "version": 3
   },
   "file_extension": ".py",
   "mimetype": "text/x-python",
   "name": "python",
   "nbconvert_exporter": "python",
   "pygments_lexer": "ipython3",
   "version": "3.10.12"
  }
 },
 "nbformat": 4,
 "nbformat_minor": 2
}
