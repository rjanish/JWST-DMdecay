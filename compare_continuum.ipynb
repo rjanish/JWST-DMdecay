{
 "cells": [
  {
   "cell_type": "code",
   "execution_count": 1,
   "metadata": {},
   "outputs": [],
   "source": [
    "import multiprocessing as mp\n",
    "from functools import partial\n",
    "\n",
    "import numpy as np\n",
    "import matplotlib.pyplot as plt\n",
    "import pandas as pd\n",
    "from tqdm import tqdm\n",
    "\n",
    "import DMdecay as dmd\n",
    "import JWSTutils as jwst\n",
    "from gnz11_split import partition_gnz11"
   ]
  },
  {
   "cell_type": "code",
   "execution_count": 2,
   "metadata": {},
   "outputs": [],
   "source": [
    "run_dir = \"gnz11_split\"\n",
    "prev_config_path = F\"{run_dir}/gnz11_split.toml\"\n",
    "skipping = 1\n",
    "\n",
    "dofs = [5, 15]"
   ]
  },
  {
   "cell_type": "code",
   "execution_count": 3,
   "metadata": {},
   "outputs": [
    {
     "name": "stdout",
     "output_type": "stream",
     "text": [
      "parsing gnz11_split/gnz11_split.toml\n",
      "processing 2 datafiles...\n"
     ]
    }
   ],
   "source": [
    "prev_configs = dmd.prep.parse_configs(prev_config_path)\n",
    "run_name = prev_configs[\"run\"][\"name\"]\n",
    "\n",
    "data = jwst.process_datafiles(prev_configs[\"run\"][\"paths\"], \n",
    "                                prev_configs[\"system\"][\"res_path\"])\n",
    "data = partition_gnz11(data, prev_configs[\"run\"][\"lambda_min\"],\n",
    "                        prev_configs[\"run\"][\"lambda_split\"])\n",
    "for spec in data:\n",
    "    dmd.prep.doppler_correction(spec, prev_configs[\"halo\"])\n",
    "    dmd.prep.add_Dfactor(spec, prev_configs[\"halo\"])"
   ]
  },
  {
   "cell_type": "code",
   "execution_count": 4,
   "metadata": {},
   "outputs": [],
   "source": [
    "rawlimits = np.loadtxt(\n",
    "    F\"{run_name}/{prev_configs['run']['rawlimits_filename']}\")\n",
    "valid = np.isfinite(rawlimits[:, 1])\n",
    "masses_to_test = rawlimits[valid, :][::skipping, 0]\n",
    "lams_to_test = dmd.conversions.mass_to_wavelength(masses_to_test)"
   ]
  },
  {
   "cell_type": "code",
   "execution_count": 5,
   "metadata": {},
   "outputs": [],
   "source": [
    "def get_limit(num_knots, data, prev_configs, lam_test):\n",
    "    prev_configs[\"analysis\"][\"num_knots\"] = num_knots\n",
    "    raw_out = dmd.linesearch.find_raw_limit(prev_configs, data, lam_test)\n",
    "    [[lmin, lmax], \n",
    "    spec_list, \n",
    "    knots, \n",
    "    error_scale_factors,\n",
    "    [limit_rate, limit_knots], \n",
    "    [best_rate, best_knots],\n",
    "    delta_chisq,\n",
    "    lam_list_msk, \n",
    "    error_list_msk, \n",
    "    lam0_tmp,\n",
    "    sky_list, \n",
    "    lam_list, \n",
    "    error_list, \n",
    "    fixed_list, \n",
    "    spec_list, \n",
    "    res_list, \n",
    "    mask_list, \n",
    "    sky_list_msk] = raw_out\n",
    "    limit_decayrate = dmd.conversions.fluxscale_to_invsec(limit_rate)   \n",
    "    mass_test = dmd.conversions.wavelength_to_mass(lam_test)\n",
    "    limit_g = dmd.conversions.decayrate_to_axion_g(limit_decayrate,\n",
    "                                                    mass_test) \n",
    "    return limit_g"
   ]
  },
  {
   "cell_type": "code",
   "execution_count": 6,
   "metadata": {},
   "outputs": [
    {
     "name": "stdout",
     "output_type": "stream",
     "text": [
      "Fitting with 5 knots\n"
     ]
    },
    {
     "name": "stderr",
     "output_type": "stream",
     "text": [
      "100%|██████████| 905/905 [00:37<00:00, 24.08it/s]"
     ]
    },
    {
     "name": "stdout",
     "output_type": "stream",
     "text": [
      "Fitting with 15 knots\n"
     ]
    },
    {
     "name": "stderr",
     "output_type": "stream",
     "text": [
      "\n",
      "100%|██████████| 905/905 [03:43<00:00,  4.04it/s]\n"
     ]
    }
   ],
   "source": [
    "limits_dict = {n:np.full(masses_to_test.size, np.nan) for n in dofs}\n",
    "for i, num_knots in enumerate(dofs):\n",
    "    print(F\"Fitting with {num_knots} knots\")\n",
    "    wrapper = partial(get_limit, num_knots, data, prev_configs)\n",
    "    with mp.Pool(mp.cpu_count() - 1) as pool:\n",
    "        results_iter = tqdm(pool.imap(wrapper, lams_to_test), \n",
    "                        total=lams_to_test.size)\n",
    "        limits_dict[num_knots] = np.asarray(list(results_iter))"
   ]
  },
  {
   "cell_type": "code",
   "execution_count": 81,
   "metadata": {},
   "outputs": [],
   "source": [
    "\n",
    "limits_df = pd.DataFrame(limits_dict)\n",
    "limits_df[\"mass\"] = masses_to_test\n",
    "avg = (limits_df[5] + limits_df[15])*0.5\n",
    "limits_df[\"frac_diff\"] = (limits_df[5] - limits_df[15])/avg\n",
    "\n",
    "limits_df[\"ratio\"] = limits_df[5]/limits_df[15]\n",
    "limits_df[\"abs_log_ratio\"] = np.abs(np.log10(limits_df[\"ratio\"]))"
   ]
  },
  {
   "cell_type": "code",
   "execution_count": 82,
   "metadata": {},
   "outputs": [],
   "source": [
    "\n",
    "limits_df.to_csv(F\"{run_name}/continuum-compare-limits.csv\", index=False)"
   ]
  },
  {
   "cell_type": "code",
   "execution_count": 83,
   "metadata": {},
   "outputs": [
    {
     "data": {
      "image/png": "[encoded data removed]",
      "text/plain": [
       "<Figure size 720x576 with 1 Axes>"
      ]
     },
     "metadata": {
      "needs_background": "light"
     },
     "output_type": "display_data"
    }
   ],
   "source": [
    "ax = limits_df[\"frac_diff\"].plot(kind=\"density\",\n",
    "                                 figsize=(10, 8))\n",
    "ax.hist(limits_df[\"frac_diff\"], bins=50, density=True,\n",
    "        alpha=0.7, color='black', histtype=\"step\")\n",
    "ax.set_xlabel(\"Fractional difference between limits\")\n",
    "ax.axvline(0, color=\"red\", linestyle=\"--\", alpha=0.7)\n",
    "plt.savefig(F\"{run_name}/continuum-compare-limits.png\")"
   ]
  },
  {
   "cell_type": "code",
   "execution_count": 96,
   "metadata": {},
   "outputs": [
    {
     "name": "stdout",
     "output_type": "stream",
     "text": [
      "         mass       lam  frac_diff\n",
      "904  0.783089  3.166536  -0.968481\n",
      "457  1.325493  1.870761  -0.953928\n",
      "456  1.327141  1.868437  -0.793390\n",
      "67   2.253600  1.100320  -0.788622\n",
      "717  0.970367  2.555405  -0.759157\n",
      "742  0.942590  2.630710  -0.728172\n",
      "778  0.904184  2.742450  -0.724222\n",
      "716  0.971497  2.552431  -0.715873\n",
      "460  1.320563  1.877745  -0.711354\n",
      "854  0.828815  2.991839  -0.701680\n",
      "         mass       lam  frac_diff\n",
      "410  1.405870  1.763804   1.112331\n",
      "682  1.010868  2.453021   1.127179\n",
      "40   2.349081  1.055596   1.140460\n",
      "13   2.450887  1.011748   1.272017\n",
      "58   2.284762  1.085312   1.274665\n",
      "676  1.018007  2.435817   1.999990\n",
      "519  1.228115  2.019095   1.999997\n",
      "402  1.420167  1.746048   1.999997\n",
      "397  1.429198  1.735015   1.999998\n",
      "93   2.167080  1.144249   2.000000\n"
     ]
    }
   ],
   "source": [
    "limits_df[\"lam\"] = lams_to_test\n",
    "\n",
    "sorted = limits_df.sort_values(\"frac_diff\")\n",
    "print(sorted[:10][[\"mass\", \"lam\", \"frac_diff\"]] )\n",
    "print(sorted[-10:][[\"mass\", \"lam\", \"frac_diff\"]] )"
   ]
  },
  {
   "cell_type": "code",
   "execution_count": 85,
   "metadata": {},
   "outputs": [
    {
     "data": {
      "text/plain": [
       "0.100    0.014745\n",
       "0.250    0.042335\n",
       "0.500    0.088874\n",
       "0.750    0.161792\n",
       "0.900    0.227352\n",
       "0.990    0.543656\n",
       "0.999    6.438526\n",
       "Name: abs_log_ratio, dtype: float64"
      ]
     },
     "execution_count": 85,
     "metadata": {},
     "output_type": "execute_result"
    }
   ],
   "source": [
    "limits_df[\"abs_log_ratio\"].quantile([0.1, 0.25, 0.5, 0.75, 0.9, 0.99, 0.999])"
   ]
  },
  {
   "cell_type": "code",
   "execution_count": 89,
   "metadata": {},
   "outputs": [],
   "source": [
    "O1_logratios = limits_df[limits_df[\"abs_log_ratio\"] < 1][\"abs_log_ratio\"]"
   ]
  },
  {
   "cell_type": "code",
   "execution_count": 92,
   "metadata": {},
   "outputs": [
    {
     "data": {
      "image/png": "[encoded data removed]",
      "text/plain": [
       "<Figure size 720x576 with 1 Axes>"
      ]
     },
     "metadata": {
      "needs_background": "light"
     },
     "output_type": "display_data"
    }
   ],
   "source": [
    "ax_ratio = O1_logratios.plot(kind=\"density\",\n",
    "                                 figsize=(10, 8))\n",
    "ax_ratio.hist(O1_logratios, bins=30, density=True,\n",
    "        alpha=0.7, color='black', histtype=\"step\")\n",
    "ax_ratio.set_xlabel(\"ratio between limits\")\n",
    "ax_ratio.axvline(0, color=\"red\", linestyle=\"--\", alpha=0.7)\n",
    "plt.savefig(F\"{run_name}/continuum-compare-limits-ratio.png\")"
   ]
  },
  {
   "cell_type": "code",
   "execution_count": 100,
   "metadata": {},
   "outputs": [
    {
     "name": "stdout",
     "output_type": "stream",
     "text": [
      "5\n"
     ]
    },
    {
     "data": {
      "text/html": [
       "<div>\n",
       "<style scoped>\n",
       "    .dataframe tbody tr th:only-of-type {\n",
       "        vertical-align: middle;\n",
       "    }\n",
       "\n",
       "    .dataframe tbody tr th {\n",
       "        vertical-align: top;\n",
       "    }\n",
       "\n",
       "    .dataframe thead th {\n",
       "        text-align: right;\n",
       "    }\n",
       "</style>\n",
       "<table border=\"1\" class=\"dataframe\">\n",
       "  <thead>\n",
       "    <tr style=\"text-align: right;\">\n",
       "      <th></th>\n",
       "      <th>lam</th>\n",
       "      <th>5</th>\n",
       "      <th>15</th>\n",
       "      <th>ratio</th>\n",
       "    </tr>\n",
       "  </thead>\n",
       "  <tbody>\n",
       "    <tr>\n",
       "      <th>93</th>\n",
       "      <td>1.144249</td>\n",
       "      <td>1.583057e-11</td>\n",
       "      <td>1.027056e-19</td>\n",
       "      <td>1.541353e+08</td>\n",
       "    </tr>\n",
       "    <tr>\n",
       "      <th>397</th>\n",
       "      <td>1.735015</td>\n",
       "      <td>1.612008e-11</td>\n",
       "      <td>9.007739e-18</td>\n",
       "      <td>1.789581e+06</td>\n",
       "    </tr>\n",
       "    <tr>\n",
       "      <th>402</th>\n",
       "      <td>1.746048</td>\n",
       "      <td>2.390545e-11</td>\n",
       "      <td>1.569768e-17</td>\n",
       "      <td>1.522865e+06</td>\n",
       "    </tr>\n",
       "    <tr>\n",
       "      <th>519</th>\n",
       "      <td>2.019095</td>\n",
       "      <td>1.698105e-11</td>\n",
       "      <td>1.372384e-17</td>\n",
       "      <td>1.237340e+06</td>\n",
       "    </tr>\n",
       "    <tr>\n",
       "      <th>676</th>\n",
       "      <td>2.435817</td>\n",
       "      <td>3.443288e-11</td>\n",
       "      <td>8.318613e-17</td>\n",
       "      <td>4.139257e+05</td>\n",
       "    </tr>\n",
       "  </tbody>\n",
       "</table>\n",
       "</div>"
      ],
      "text/plain": [
       "          lam             5            15         ratio\n",
       "93   1.144249  1.583057e-11  1.027056e-19  1.541353e+08\n",
       "397  1.735015  1.612008e-11  9.007739e-18  1.789581e+06\n",
       "402  1.746048  2.390545e-11  1.569768e-17  1.522865e+06\n",
       "519  2.019095  1.698105e-11  1.372384e-17  1.237340e+06\n",
       "676  2.435817  3.443288e-11  8.318613e-17  4.139257e+05"
      ]
     },
     "execution_count": 100,
     "metadata": {},
     "output_type": "execute_result"
    }
   ],
   "source": [
    "print(np.sum(limits_df[\"abs_log_ratio\"] > 1))\n",
    "limits_df[limits_df[\"abs_log_ratio\"] > 1][[\"lam\", 5, 15, \"ratio\"]]"
   ]
  },
  {
   "cell_type": "code",
   "execution_count": null,
   "metadata": {},
   "outputs": [
    {
     "data": {
      "text/plain": [
       "{5: array([3.04468148e-11, 2.60216566e-11, 2.17618921e-11, 1.34817522e-11,\n",
       "        2.91893840e-11, 1.34726765e-11, 3.44763948e-11, 4.85266451e-11,\n",
       "        5.15251757e-11, 3.43695152e-11, 1.64928885e-11, 2.80626421e-11,\n",
       "        1.60089699e-11, 4.58423657e-11, 4.03162492e-11, 4.96873863e-11,\n",
       "        3.85945185e-11, 4.94607181e-11, 6.36878873e-11])}"
      ]
     },
     "metadata": {},
     "output_type": "display_data"
    }
   ],
   "source": [
    "limits_dict"
   ]
  },
  {
   "cell_type": "code",
   "execution_count": null,
   "metadata": {},
   "outputs": [],
   "source": []
  }
 ],
 "metadata": {
  "kernelspec": {
   "display_name": "Python 3",
   "language": "python",
   "name": "python3"
  },
  "language_info": {
   "codemirror_mode": {
    "name": "ipython",
    "version": 3
   },
   "file_extension": ".py",
   "mimetype": "text/x-python",
   "name": "python",
   "nbconvert_exporter": "python",
   "pygments_lexer": "ipython3",
   "version": "3.10.12"
  }
 },
 "nbformat": 4,
 "nbformat_minor": 2
}
