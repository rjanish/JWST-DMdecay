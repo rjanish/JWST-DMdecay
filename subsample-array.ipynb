{
 "cells": [
  {
   "cell_type": "code",
   "execution_count": 2,
   "id": "ee53c409",
   "metadata": {},
   "outputs": [],
   "source": [
    "import numpy as np"
   ]
  },
  {
   "cell_type": "code",
   "execution_count": 13,
   "id": "c6c7f38d",
   "metadata": {},
   "outputs": [],
   "source": [
    "a = (1+np.arange(5))**2"
   ]
  },
  {
   "cell_type": "code",
   "execution_count": 14,
   "id": "8c93a513",
   "metadata": {},
   "outputs": [
    {
     "data": {
      "text/plain": [
       "array([ 1,  4,  9, 16, 25])"
      ]
     },
     "execution_count": 14,
     "metadata": {},
     "output_type": "execute_result"
    }
   ],
   "source": [
    "a"
   ]
  },
  {
   "cell_type": "code",
   "execution_count": 15,
   "id": "26d88ffa",
   "metadata": {},
   "outputs": [],
   "source": [
    "b = np.zeros(a.size + 3*(a.size - 1))"
   ]
  },
  {
   "cell_type": "code",
   "execution_count": 16,
   "id": "af10ed14",
   "metadata": {},
   "outputs": [
    {
     "data": {
      "text/plain": [
       "array([0., 0., 0., 0., 0., 0., 0., 0., 0., 0., 0., 0., 0., 0., 0., 0., 0.])"
      ]
     },
     "execution_count": 16,
     "metadata": {},
     "output_type": "execute_result"
    }
   ],
   "source": [
    "b"
   ]
  },
  {
   "cell_type": "code",
   "execution_count": 17,
   "id": "307cdd71",
   "metadata": {},
   "outputs": [],
   "source": [
    "b[::(3 + 1)] = a"
   ]
  },
  {
   "cell_type": "code",
   "execution_count": 18,
   "id": "07ec0a75",
   "metadata": {},
   "outputs": [
    {
     "data": {
      "text/plain": [
       "array([ 1.,  0.,  0.,  0.,  4.,  0.,  0.,  0.,  9.,  0.,  0.,  0., 16.,\n",
       "        0.,  0.,  0., 25.])"
      ]
     },
     "execution_count": 18,
     "metadata": {},
     "output_type": "execute_result"
    }
   ],
   "source": [
    "b"
   ]
  },
  {
   "cell_type": "code",
   "execution_count": 24,
   "id": "54ca6a36",
   "metadata": {},
   "outputs": [],
   "source": [
    "for start in range(3):\n",
    "    b[(1 + start)::(1 + 3)] = a[:-1] + (a[1:] - a[:-1])*(1 + start)/(3 + 1)"
   ]
  },
  {
   "cell_type": "code",
   "execution_count": 25,
   "id": "f872d5f2",
   "metadata": {},
   "outputs": [
    {
     "data": {
      "text/plain": [
       "array([ 1.  ,  1.75,  2.5 ,  3.25,  4.  ,  5.25,  6.5 ,  7.75,  9.  ,\n",
       "       10.75, 12.5 , 14.25, 16.  , 18.25, 20.5 , 22.75, 25.  ])"
      ]
     },
     "execution_count": 25,
     "metadata": {},
     "output_type": "execute_result"
    }
   ],
   "source": [
    "b"
   ]
  },
  {
   "cell_type": "code",
   "execution_count": 19,
   "id": "68074e62",
   "metadata": {},
   "outputs": [
    {
     "data": {
      "text/plain": [
       "array([1.  , 1.75, 2.5 , 3.25, 4.  ])"
      ]
     },
     "execution_count": 19,
     "metadata": {},
     "output_type": "execute_result"
    }
   ],
   "source": [
    "np.linspace(1, 4, 5)"
   ]
  },
  {
   "cell_type": "code",
   "execution_count": 26,
   "id": "ea3e1c24",
   "metadata": {},
   "outputs": [],
   "source": [
    "def subsample_array(a, n=1):\n",
    "    new = np.empty(a.size + n*(a.size - 1))\n",
    "    new[::(n + 1)] = a\n",
    "    for start in range(n):\n",
    "        new[(1 + start)::(n + 1)] = a[:-1] + (a[1:] - a[:-1])*(1 + start)/(1 + n)\n",
    "    return new"
   ]
  },
  {
   "cell_type": "code",
   "execution_count": 28,
   "id": "dcfa4286",
   "metadata": {},
   "outputs": [
    {
     "name": "stdout",
     "output_type": "stream",
     "text": [
      "[  8  27  64 125]\n",
      "[  8.   17.5  27.   45.5  64.   94.5 125. ]\n",
      "[  8.          14.33333333  20.66666667  27.          39.33333333\n",
      "  51.66666667  64.          84.33333333 104.66666667 125.        ]\n",
      "[  8.   11.8  15.6  19.4  23.2  27.   34.4  41.8  49.2  56.6  64.   76.2\n",
      "  88.4 100.6 112.8 125. ]\n"
     ]
    }
   ],
   "source": [
    "t = (2 + np.arange(4))**3\n",
    "print(t)\n",
    "print(subsample_array(t))\n",
    "print(subsample_array(t, 2))\n",
    "print(subsample_array(t, 4))"
   ]
  },
  {
   "cell_type": "code",
   "execution_count": null,
   "id": "7fa08f80",
   "metadata": {},
   "outputs": [],
   "source": []
  }
 ],
 "metadata": {
  "kernelspec": {
   "display_name": "Python 3 (ipykernel)",
   "language": "python",
   "name": "python3"
  },
  "language_info": {
   "codemirror_mode": {
    "name": "ipython",
    "version": 3
   },
   "file_extension": ".py",
   "mimetype": "text/x-python",
   "name": "python",
   "nbconvert_exporter": "python",
   "pygments_lexer": "ipython3",
   "version": "3.10.12"
  }
 },
 "nbformat": 4,
 "nbformat_minor": 5
}
